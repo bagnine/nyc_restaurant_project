{
 "cells": [
  {
   "cell_type": "code",
   "execution_count": 1,
   "metadata": {},
   "outputs": [],
   "source": [
    "import pandas as pd\n",
    "import numpy as np"
   ]
  },
  {
   "cell_type": "code",
   "execution_count": 2,
   "metadata": {},
   "outputs": [],
   "source": [
    "df = pd.read_csv('data/mergeddata.csv')"
   ]
  },
  {
   "cell_type": "code",
   "execution_count": 4,
   "metadata": {},
   "outputs": [
    {
     "name": "stdout",
     "output_type": "stream",
     "text": [
      "<class 'pandas.core.frame.DataFrame'>\n",
      "RangeIndex: 1365 entries, 0 to 1364\n",
      "Data columns (total 25 columns):\n",
      "Unnamed: 0                  1365 non-null int64\n",
      "alias                       1365 non-null object\n",
      "categories                  1365 non-null object\n",
      "coordinates                 1365 non-null object\n",
      "display_phone               1303 non-null object\n",
      "is_closed                   1365 non-null bool\n",
      "location                    1365 non-null object\n",
      "name                        1365 non-null object\n",
      "price                       1132 non-null object\n",
      "rating                      1365 non-null float64\n",
      "review_count                1365 non-null int64\n",
      "transactions                1365 non-null object\n",
      "url                         1365 non-null object\n",
      "permanently closed          1365 non-null int64\n",
      "outdoor_seating             1365 non-null int64\n",
      "price_cat                   1365 non-null object\n",
      "delivery                    1365 non-null int64\n",
      "restaurant_reservation      1365 non-null int64\n",
      "pickup                      1365 non-null int64\n",
      "zip_code                    1365 non-null int64\n",
      "latitude                    1365 non-null float64\n",
      "longitude                   1365 non-null float64\n",
      "total_restaurants_in_zip    1360 non-null float64\n",
      "Population Density          1327 non-null float64\n",
      "distance_to_subway          1365 non-null float64\n",
      "dtypes: bool(1), float64(6), int64(8), object(10)\n",
      "memory usage: 257.4+ KB\n"
     ]
    }
   ],
   "source": [
    "df.info()"
   ]
  },
  {
   "cell_type": "code",
   "execution_count": 34,
   "metadata": {},
   "outputs": [
    {
     "data": {
      "text/plain": [
       "11249    27\n",
       "7020      5\n",
       "10281     4\n",
       "10080     1\n",
       "10271     1\n",
       "Name: zip_code, dtype: int64"
      ]
     },
     "execution_count": 34,
     "metadata": {},
     "output_type": "execute_result"
    }
   ],
   "source": [
    "df.loc[df['Population Density '].isnull() , 'zip_code'].value_counts()"
   ]
  },
  {
   "cell_type": "code",
   "execution_count": 36,
   "metadata": {},
   "outputs": [
    {
     "data": {
      "text/plain": [
       "7020    5\n",
       "Name: zip_code, dtype: int64"
      ]
     },
     "execution_count": 36,
     "metadata": {},
     "output_type": "execute_result"
    }
   ],
   "source": [
    "df.loc[df['total_restaurants_in_zip'].isnull() , 'zip_code'].value_counts()"
   ]
  },
  {
   "cell_type": "code",
   "execution_count": 37,
   "metadata": {},
   "outputs": [
    {
     "data": {
      "text/plain": [
       "239                    original-pancake-house-edgewater\n",
       "246     haven-riverfront-restaurant-and-bar-edgewater-2\n",
       "584                                rebeccas-edgewater-3\n",
       "1164                               hudson-pot-edgewater\n",
       "1284                 lulu-lounge-and-bistro-edgewater-3\n",
       "Name: alias, dtype: object"
      ]
     },
     "execution_count": 37,
     "metadata": {},
     "output_type": "execute_result"
    }
   ],
   "source": [
    "df.loc[df['zip_code'] == 7020, 'alias']"
   ]
  },
  {
   "cell_type": "code",
   "execution_count": 38,
   "metadata": {},
   "outputs": [
    {
     "data": {
      "text/plain": [
       "239     {'address1': '15 The Promenade', 'address2': '...\n",
       "246     {'address1': '2 Main St', 'address2': 'Ste G',...\n",
       "584     {'address1': '236 Old River Rd', 'address2': '...\n",
       "1164    {'address1': '595 River Rd Edgewaternj', 'addr...\n",
       "1284    {'address1': '360 Old RIver Rd', 'address2': N...\n",
       "Name: location, dtype: object"
      ]
     },
     "execution_count": 38,
     "metadata": {},
     "output_type": "execute_result"
    }
   ],
   "source": [
    "df.loc[df['zip_code'] == 7020, 'location']"
   ]
  },
  {
   "cell_type": "code",
   "execution_count": 39,
   "metadata": {},
   "outputs": [
    {
     "data": {
      "text/plain": [
       "\"{'address1': '15 The Promenade', 'address2': '', 'address3': '', 'city': 'Edgewater', 'zip_code': '07020', 'country': 'US', 'state': 'NJ', 'display_address': ['15 The Promenade', 'Edgewater, NJ 07020']}\""
      ]
     },
     "execution_count": 39,
     "metadata": {},
     "output_type": "execute_result"
    }
   ],
   "source": [
    "df['location'][239]"
   ]
  },
  {
   "cell_type": "code",
   "execution_count": 40,
   "metadata": {},
   "outputs": [
    {
     "data": {
      "text/plain": [
       "\"{'address1': '2 Main St', 'address2': 'Ste G', 'address3': '', 'city': 'Edgewater', 'zip_code': '07020', 'country': 'US', 'state': 'NJ', 'display_address': ['2 Main St', 'Ste G', 'Edgewater, NJ 07020']}\""
      ]
     },
     "execution_count": 40,
     "metadata": {},
     "output_type": "execute_result"
    }
   ],
   "source": [
    "df['location'][246]"
   ]
  },
  {
   "cell_type": "code",
   "execution_count": 41,
   "metadata": {},
   "outputs": [
    {
     "data": {
      "text/plain": [
       "\"{'address1': '236 Old River Rd', 'address2': '', 'address3': '', 'city': 'Edgewater', 'zip_code': '07020', 'country': 'US', 'state': 'NJ', 'display_address': ['236 Old River Rd', 'Edgewater, NJ 07020']}\""
      ]
     },
     "execution_count": 41,
     "metadata": {},
     "output_type": "execute_result"
    }
   ],
   "source": [
    "df['location'][584]"
   ]
  },
  {
   "cell_type": "code",
   "execution_count": 42,
   "metadata": {},
   "outputs": [
    {
     "data": {
      "text/plain": [
       "\"{'address1': '595 River Rd Edgewaternj', 'address2': None, 'address3': '', 'city': 'Edgewater', 'zip_code': '07020', 'country': 'US', 'state': 'NJ', 'display_address': ['595 River Rd Edgewaternj', 'Edgewater, NJ 07020']}\""
      ]
     },
     "execution_count": 42,
     "metadata": {},
     "output_type": "execute_result"
    }
   ],
   "source": [
    "df['location'][1164]"
   ]
  },
  {
   "cell_type": "code",
   "execution_count": 43,
   "metadata": {},
   "outputs": [
    {
     "data": {
      "text/plain": [
       "\"{'address1': '360 Old RIver Rd', 'address2': None, 'address3': '', 'city': 'Edgewater', 'zip_code': '07020', 'country': 'US', 'state': 'NJ', 'display_address': ['360 Old RIver Rd', 'Edgewater, NJ 07020']}\""
      ]
     },
     "execution_count": 43,
     "metadata": {},
     "output_type": "execute_result"
    }
   ],
   "source": [
    "df['location'][1284]"
   ]
  },
  {
   "cell_type": "code",
   "execution_count": 45,
   "metadata": {},
   "outputs": [
    {
     "data": {
      "text/plain": [
       "count      1327.000000\n",
       "mean      62530.514017\n",
       "std       30996.349379\n",
       "min        5402.400000\n",
       "25%       39596.100000\n",
       "50%       55400.800000\n",
       "75%       82215.900000\n",
       "max      146955.300000\n",
       "Name: Population Density , dtype: float64"
      ]
     },
     "execution_count": 45,
     "metadata": {},
     "output_type": "execute_result"
    }
   ],
   "source": [
    "df['Population Density '].describe()"
   ]
  },
  {
   "cell_type": "code",
   "execution_count": null,
   "metadata": {},
   "outputs": [],
   "source": []
  }
 ],
 "metadata": {
  "kernelspec": {
   "display_name": "Python 3",
   "language": "python",
   "name": "python3"
  },
  "language_info": {
   "codemirror_mode": {
    "name": "ipython",
    "version": 3
   },
   "file_extension": ".py",
   "mimetype": "text/x-python",
   "name": "python",
   "nbconvert_exporter": "python",
   "pygments_lexer": "ipython3",
   "version": "3.6.9"
  }
 },
 "nbformat": 4,
 "nbformat_minor": 4
}
