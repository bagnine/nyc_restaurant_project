{
 "metadata": {
  "language_info": {
   "codemirror_mode": {
    "name": "ipython",
    "version": 3
   },
   "file_extension": ".py",
   "mimetype": "text/x-python",
   "name": "python",
   "nbconvert_exporter": "python",
   "pygments_lexer": "ipython3",
   "version": "3.6.9-final"
  },
  "orig_nbformat": 2,
  "kernelspec": {
   "name": "python3",
   "display_name": "Python 3"
  }
 },
 "nbformat": 4,
 "nbformat_minor": 2,
 "cells": [
  {
   "cell_type": "code",
   "execution_count": 1,
   "metadata": {},
   "outputs": [],
   "source": [
    "import pandas as pd\n",
    "import numpy as np\n",
    "import requests\n",
    "import json\n",
    "import time"
   ]
  },
  {
   "cell_type": "code",
   "execution_count": 2,
   "metadata": {},
   "outputs": [
    {
     "output_type": "execute_result",
     "data": {
      "text/plain": [
       "'wzaVpfzDWAaJdwE78a8IRJ99QLfeWuGFae_Mm8hyXNyM52ve5c0MTqBG_lAFELXtWNImZAoqp7_qe0llZDo4KBuP30QhVh6Xx50teLTCMCDklgkYDdsIonmv2hBqX3Yx'"
      ]
     },
     "metadata": {},
     "execution_count": 2
    }
   ],
   "source": [
    "url = 'https://api.yelp.com/v3/businesses/search'\n",
    "response = requests.get(url)\n",
    "\n",
    "f = open(\"./apikey.txt\", \"r\")\n",
    "MY_API_KEY = (f.read())\n",
    "MY_API_KEY"
   ]
  },
  {
   "cell_type": "code",
   "execution_count": 3,
   "metadata": {},
   "outputs": [],
   "source": [
    "def yelp_data(search_term, zipcode, limit, url, api_key):\n",
    "    headers = {'Authorization': 'Bearer {}'.format(MY_API_KEY),}\n",
    "\n",
    "    url_params = {\n",
    "                'term': search_term.replace(' ', '+'),\n",
    "                'location': zipcode,\n",
    "                'limit': limit}\n",
    "    a = requests.get(url, headers = headers, params= url_params)\n",
    "    b = a.text\n",
    "    df = json.loads(b)\n",
    "    return pd.DataFrame(df['businesses'])"
   ]
  },
  {
   "cell_type": "code",
   "execution_count": 4,
   "metadata": {},
   "outputs": [],
   "source": [
    "def yelp_dataframe(search_term, list_of_zipcodes, limit, url, api_key):\n",
    "    main = []\n",
    "    maindf = pd.DataFrame()\n",
    "    for i in range(0, len(list_of_zipcodes)):\n",
    "        main.append(yelp_data(search_term, i, limit, url, api_key))\n",
    "    for i in main:\n",
    "        maindf = pd.concat([i, maindf], axis = 0)\n",
    "    return maindf"
   ]
  },
  {
   "cell_type": "code",
   "execution_count": 5,
   "metadata": {},
   "outputs": [
    {
     "output_type": "execute_result",
     "data": {
      "text/plain": [
       "                                                alias  \\\n",
       "0   restaurant-gut-oberstockstall-kirchberg-am-wagram   \n",
       "1                         weritas-kirchberg-am-wagram   \n",
       "2                            gasthof-haag-haitzendorf   \n",
       "3                      josef-s-himmelreich-zaußenberg   \n",
       "4     restaurant-mörwald-schloss-grafenegg-krems-land   \n",
       "..                                                ...   \n",
       "45                                cicchetti-charlotte   \n",
       "46                               curry-gate-charlotte   \n",
       "47                    pinkys-westside-grill-charlotte   \n",
       "48                           tupelo-honey-charlotte-8   \n",
       "49               nuvole-rooftop-twentytwo-charlotte-2   \n",
       "\n",
       "                                           categories  \\\n",
       "0        [{'alias': 'austrian', 'title': 'Austrian'}]   \n",
       "1   [{'alias': 'wine_bars', 'title': 'Wine Bars'},...   \n",
       "2   [{'alias': 'restaurants', 'title': 'Restaurant...   \n",
       "3        [{'alias': 'austrian', 'title': 'Austrian'}]   \n",
       "4        [{'alias': 'austrian', 'title': 'Austrian'}]   \n",
       "..                                                ...   \n",
       "45  [{'alias': 'wine_bars', 'title': 'Wine Bars'},...   \n",
       "46  [{'alias': 'indpak', 'title': 'Indian'}, {'ali...   \n",
       "47  [{'alias': 'burgers', 'title': 'Burgers'}, {'a...   \n",
       "48  [{'alias': 'southern', 'title': 'Southern'}, {...   \n",
       "49  [{'alias': 'cocktailbars', 'title': 'Cocktail ...   \n",
       "\n",
       "                                          coordinates     display_phone  \\\n",
       "0         {'latitude': 48.4402, 'longitude': 15.9078}     +43 2279 2335   \n",
       "1   {'latitude': 48.4355836, 'longitude': 15.8964629}  +43 2279 2017910   \n",
       "2   {'latitude': 48.4256291062851, 'longitude': 15...     +43 2735 2252   \n",
       "3   {'latitude': 48.4307239445904, 'longitude': 15...    +43 2278 28241   \n",
       "4   {'latitude': 48.4311911, 'longitude': 15.7496579}     +43 2735 2616   \n",
       "..                                                ...               ...   \n",
       "45  {'latitude': 35.2265181073867, 'longitude': -8...    (980) 299-0039   \n",
       "46     {'latitude': 35.24811, 'longitude': -80.82897}    (704) 712-2968   \n",
       "47     {'latitude': 35.22912, 'longitude': -80.86738}    (704) 332-0402   \n",
       "48     {'latitude': 35.22628, 'longitude': -80.84303}    (980) 270-7268   \n",
       "49  {'latitude': 35.2254381998475, 'longitude': -8...    (980) 960-9800   \n",
       "\n",
       "        distance                      id  \\\n",
       "0    1797.293181  4rynE_oC0EdATtlm1N0VUA   \n",
       "1    1144.406889  wsa1U6T--dGzDBySVOoobQ   \n",
       "2   10726.417557  2ULKwgXxvWtW-_sa-bo5eg   \n",
       "3    7234.354925  YmYBa5CxoK9c8H0gUgITAw   \n",
       "4    9935.482438  WiqksZTLeeco-wVVGu3p6A   \n",
       "..           ...                     ...   \n",
       "45   1559.530164  xtI0IrtdusfRNhr91Gvw8Q   \n",
       "46   1722.930822  YD2rTpjHfFz9_D0un3yj5Q   \n",
       "47   2364.396644  01fuY2NNscttoTxOYbuZXw   \n",
       "48   1526.550298  _fmXt5d3vxpp-KYHFEIslQ   \n",
       "49   1687.725156  VsEpjrGJu8RJhreGChT7Uw   \n",
       "\n",
       "                                            image_url  is_closed  \\\n",
       "0   https://s3-media1.fl.yelpcdn.com/bphoto/bTBbaJ...      False   \n",
       "1   https://s3-media4.fl.yelpcdn.com/bphoto/7YcNfK...      False   \n",
       "2   https://s3-media4.fl.yelpcdn.com/bphoto/ksG2Q0...      False   \n",
       "3                                                          False   \n",
       "4   https://s3-media2.fl.yelpcdn.com/bphoto/OunGHv...      False   \n",
       "..                                                ...        ...   \n",
       "45  https://s3-media2.fl.yelpcdn.com/bphoto/6Ke9ZS...      False   \n",
       "46  https://s3-media2.fl.yelpcdn.com/bphoto/b7crmM...      False   \n",
       "47  https://s3-media3.fl.yelpcdn.com/bphoto/wyRLgf...      False   \n",
       "48  https://s3-media1.fl.yelpcdn.com/bphoto/5X7BNo...      False   \n",
       "49  https://s3-media2.fl.yelpcdn.com/bphoto/2TtM_Z...      False   \n",
       "\n",
       "                                             location  \\\n",
       "0   {'address1': 'Oberstockstall 1', 'address2': N...   \n",
       "1   {'address1': 'Marktplatz 44', 'address2': '', ...   \n",
       "2   {'address1': 'Obere Hauptstr. 17', 'address2':...   \n",
       "3   {'address1': 'Ortsstraße 4', 'address2': '', '...   \n",
       "4   {'address1': 'Grafenegg 12', 'address2': '', '...   \n",
       "..                                                ...   \n",
       "45  {'address1': '100 N Tryon St', 'address2': '',...   \n",
       "46  {'address1': '630 W 24th St', 'address2': None...   \n",
       "47  {'address1': '1600 W Morehead St', 'address2':...   \n",
       "48  {'address1': '101 S Tryon St', 'address2': 'St...   \n",
       "49  {'address1': '220 E Trade St', 'address2': 'St...   \n",
       "\n",
       "                                    name           phone price  rating  \\\n",
       "0          Restaurant Gut Oberstockstall     +4322792335   €€€     5.0   \n",
       "1                                Weritas  +4322792017910   NaN     4.5   \n",
       "2                           Gasthof Haag     +4327352252    €€     5.0   \n",
       "3                    Josef’s Himmelreich    +43227828241   NaN     5.0   \n",
       "4   Restaurant Mörwald Schloss Grafenegg     +4327352616   €€€     4.0   \n",
       "..                                   ...             ...   ...     ...   \n",
       "45                             Cicchetti    +19802990039    $$     4.0   \n",
       "46                            Curry Gate    +17047122968   NaN     5.0   \n",
       "47                Pinky's Westside Grill    +17043320402     $     4.0   \n",
       "48                          Tupelo Honey    +19802707268   NaN     4.0   \n",
       "49              Nuvole Rooftop TwentyTwo    +19809609800    $$     4.0   \n",
       "\n",
       "    review_count        transactions  \\\n",
       "0              2                  []   \n",
       "1              3                  []   \n",
       "2              2                  []   \n",
       "3              1                  []   \n",
       "4              2                  []   \n",
       "..           ...                 ...   \n",
       "45            33          [delivery]   \n",
       "46            37  [delivery, pickup]   \n",
       "47          1261  [delivery, pickup]   \n",
       "48            91  [delivery, pickup]   \n",
       "49            86          [delivery]   \n",
       "\n",
       "                                                  url  \n",
       "0   https://www.yelp.com/biz/restaurant-gut-oberst...  \n",
       "1   https://www.yelp.com/biz/weritas-kirchberg-am-...  \n",
       "2   https://www.yelp.com/biz/gasthof-haag-haitzend...  \n",
       "3   https://www.yelp.com/biz/josef-s-himmelreich-z...  \n",
       "4   https://www.yelp.com/biz/restaurant-m%C3%B6rwa...  \n",
       "..                                                ...  \n",
       "45  https://www.yelp.com/biz/cicchetti-charlotte?a...  \n",
       "46  https://www.yelp.com/biz/curry-gate-charlotte?...  \n",
       "47  https://www.yelp.com/biz/pinkys-westside-grill...  \n",
       "48  https://www.yelp.com/biz/tupelo-honey-charlott...  \n",
       "49  https://www.yelp.com/biz/nuvole-rooftop-twenty...  \n",
       "\n",
       "[101 rows x 16 columns]"
      ],
      "text/html": "<div>\n<style scoped>\n    .dataframe tbody tr th:only-of-type {\n        vertical-align: middle;\n    }\n\n    .dataframe tbody tr th {\n        vertical-align: top;\n    }\n\n    .dataframe thead th {\n        text-align: right;\n    }\n</style>\n<table border=\"1\" class=\"dataframe\">\n  <thead>\n    <tr style=\"text-align: right;\">\n      <th></th>\n      <th>alias</th>\n      <th>categories</th>\n      <th>coordinates</th>\n      <th>display_phone</th>\n      <th>distance</th>\n      <th>id</th>\n      <th>image_url</th>\n      <th>is_closed</th>\n      <th>location</th>\n      <th>name</th>\n      <th>phone</th>\n      <th>price</th>\n      <th>rating</th>\n      <th>review_count</th>\n      <th>transactions</th>\n      <th>url</th>\n    </tr>\n  </thead>\n  <tbody>\n    <tr>\n      <th>0</th>\n      <td>restaurant-gut-oberstockstall-kirchberg-am-wagram</td>\n      <td>[{'alias': 'austrian', 'title': 'Austrian'}]</td>\n      <td>{'latitude': 48.4402, 'longitude': 15.9078}</td>\n      <td>+43 2279 2335</td>\n      <td>1797.293181</td>\n      <td>4rynE_oC0EdATtlm1N0VUA</td>\n      <td>https://s3-media1.fl.yelpcdn.com/bphoto/bTBbaJ...</td>\n      <td>False</td>\n      <td>{'address1': 'Oberstockstall 1', 'address2': N...</td>\n      <td>Restaurant Gut Oberstockstall</td>\n      <td>+4322792335</td>\n      <td>€€€</td>\n      <td>5.0</td>\n      <td>2</td>\n      <td>[]</td>\n      <td>https://www.yelp.com/biz/restaurant-gut-oberst...</td>\n    </tr>\n    <tr>\n      <th>1</th>\n      <td>weritas-kirchberg-am-wagram</td>\n      <td>[{'alias': 'wine_bars', 'title': 'Wine Bars'},...</td>\n      <td>{'latitude': 48.4355836, 'longitude': 15.8964629}</td>\n      <td>+43 2279 2017910</td>\n      <td>1144.406889</td>\n      <td>wsa1U6T--dGzDBySVOoobQ</td>\n      <td>https://s3-media4.fl.yelpcdn.com/bphoto/7YcNfK...</td>\n      <td>False</td>\n      <td>{'address1': 'Marktplatz 44', 'address2': '', ...</td>\n      <td>Weritas</td>\n      <td>+4322792017910</td>\n      <td>NaN</td>\n      <td>4.5</td>\n      <td>3</td>\n      <td>[]</td>\n      <td>https://www.yelp.com/biz/weritas-kirchberg-am-...</td>\n    </tr>\n    <tr>\n      <th>2</th>\n      <td>gasthof-haag-haitzendorf</td>\n      <td>[{'alias': 'restaurants', 'title': 'Restaurant...</td>\n      <td>{'latitude': 48.4256291062851, 'longitude': 15...</td>\n      <td>+43 2735 2252</td>\n      <td>10726.417557</td>\n      <td>2ULKwgXxvWtW-_sa-bo5eg</td>\n      <td>https://s3-media4.fl.yelpcdn.com/bphoto/ksG2Q0...</td>\n      <td>False</td>\n      <td>{'address1': 'Obere Hauptstr. 17', 'address2':...</td>\n      <td>Gasthof Haag</td>\n      <td>+4327352252</td>\n      <td>€€</td>\n      <td>5.0</td>\n      <td>2</td>\n      <td>[]</td>\n      <td>https://www.yelp.com/biz/gasthof-haag-haitzend...</td>\n    </tr>\n    <tr>\n      <th>3</th>\n      <td>josef-s-himmelreich-zaußenberg</td>\n      <td>[{'alias': 'austrian', 'title': 'Austrian'}]</td>\n      <td>{'latitude': 48.4307239445904, 'longitude': 15...</td>\n      <td>+43 2278 28241</td>\n      <td>7234.354925</td>\n      <td>YmYBa5CxoK9c8H0gUgITAw</td>\n      <td></td>\n      <td>False</td>\n      <td>{'address1': 'Ortsstraße 4', 'address2': '', '...</td>\n      <td>Josef’s Himmelreich</td>\n      <td>+43227828241</td>\n      <td>NaN</td>\n      <td>5.0</td>\n      <td>1</td>\n      <td>[]</td>\n      <td>https://www.yelp.com/biz/josef-s-himmelreich-z...</td>\n    </tr>\n    <tr>\n      <th>4</th>\n      <td>restaurant-mörwald-schloss-grafenegg-krems-land</td>\n      <td>[{'alias': 'austrian', 'title': 'Austrian'}]</td>\n      <td>{'latitude': 48.4311911, 'longitude': 15.7496579}</td>\n      <td>+43 2735 2616</td>\n      <td>9935.482438</td>\n      <td>WiqksZTLeeco-wVVGu3p6A</td>\n      <td>https://s3-media2.fl.yelpcdn.com/bphoto/OunGHv...</td>\n      <td>False</td>\n      <td>{'address1': 'Grafenegg 12', 'address2': '', '...</td>\n      <td>Restaurant Mörwald Schloss Grafenegg</td>\n      <td>+4327352616</td>\n      <td>€€€</td>\n      <td>4.0</td>\n      <td>2</td>\n      <td>[]</td>\n      <td>https://www.yelp.com/biz/restaurant-m%C3%B6rwa...</td>\n    </tr>\n    <tr>\n      <th>...</th>\n      <td>...</td>\n      <td>...</td>\n      <td>...</td>\n      <td>...</td>\n      <td>...</td>\n      <td>...</td>\n      <td>...</td>\n      <td>...</td>\n      <td>...</td>\n      <td>...</td>\n      <td>...</td>\n      <td>...</td>\n      <td>...</td>\n      <td>...</td>\n      <td>...</td>\n      <td>...</td>\n    </tr>\n    <tr>\n      <th>45</th>\n      <td>cicchetti-charlotte</td>\n      <td>[{'alias': 'wine_bars', 'title': 'Wine Bars'},...</td>\n      <td>{'latitude': 35.2265181073867, 'longitude': -8...</td>\n      <td>(980) 299-0039</td>\n      <td>1559.530164</td>\n      <td>xtI0IrtdusfRNhr91Gvw8Q</td>\n      <td>https://s3-media2.fl.yelpcdn.com/bphoto/6Ke9ZS...</td>\n      <td>False</td>\n      <td>{'address1': '100 N Tryon St', 'address2': '',...</td>\n      <td>Cicchetti</td>\n      <td>+19802990039</td>\n      <td>$$</td>\n      <td>4.0</td>\n      <td>33</td>\n      <td>[delivery]</td>\n      <td>https://www.yelp.com/biz/cicchetti-charlotte?a...</td>\n    </tr>\n    <tr>\n      <th>46</th>\n      <td>curry-gate-charlotte</td>\n      <td>[{'alias': 'indpak', 'title': 'Indian'}, {'ali...</td>\n      <td>{'latitude': 35.24811, 'longitude': -80.82897}</td>\n      <td>(704) 712-2968</td>\n      <td>1722.930822</td>\n      <td>YD2rTpjHfFz9_D0un3yj5Q</td>\n      <td>https://s3-media2.fl.yelpcdn.com/bphoto/b7crmM...</td>\n      <td>False</td>\n      <td>{'address1': '630 W 24th St', 'address2': None...</td>\n      <td>Curry Gate</td>\n      <td>+17047122968</td>\n      <td>NaN</td>\n      <td>5.0</td>\n      <td>37</td>\n      <td>[delivery, pickup]</td>\n      <td>https://www.yelp.com/biz/curry-gate-charlotte?...</td>\n    </tr>\n    <tr>\n      <th>47</th>\n      <td>pinkys-westside-grill-charlotte</td>\n      <td>[{'alias': 'burgers', 'title': 'Burgers'}, {'a...</td>\n      <td>{'latitude': 35.22912, 'longitude': -80.86738}</td>\n      <td>(704) 332-0402</td>\n      <td>2364.396644</td>\n      <td>01fuY2NNscttoTxOYbuZXw</td>\n      <td>https://s3-media3.fl.yelpcdn.com/bphoto/wyRLgf...</td>\n      <td>False</td>\n      <td>{'address1': '1600 W Morehead St', 'address2':...</td>\n      <td>Pinky's Westside Grill</td>\n      <td>+17043320402</td>\n      <td>$</td>\n      <td>4.0</td>\n      <td>1261</td>\n      <td>[delivery, pickup]</td>\n      <td>https://www.yelp.com/biz/pinkys-westside-grill...</td>\n    </tr>\n    <tr>\n      <th>48</th>\n      <td>tupelo-honey-charlotte-8</td>\n      <td>[{'alias': 'southern', 'title': 'Southern'}, {...</td>\n      <td>{'latitude': 35.22628, 'longitude': -80.84303}</td>\n      <td>(980) 270-7268</td>\n      <td>1526.550298</td>\n      <td>_fmXt5d3vxpp-KYHFEIslQ</td>\n      <td>https://s3-media1.fl.yelpcdn.com/bphoto/5X7BNo...</td>\n      <td>False</td>\n      <td>{'address1': '101 S Tryon St', 'address2': 'St...</td>\n      <td>Tupelo Honey</td>\n      <td>+19802707268</td>\n      <td>NaN</td>\n      <td>4.0</td>\n      <td>91</td>\n      <td>[delivery, pickup]</td>\n      <td>https://www.yelp.com/biz/tupelo-honey-charlott...</td>\n    </tr>\n    <tr>\n      <th>49</th>\n      <td>nuvole-rooftop-twentytwo-charlotte-2</td>\n      <td>[{'alias': 'cocktailbars', 'title': 'Cocktail ...</td>\n      <td>{'latitude': 35.2254381998475, 'longitude': -8...</td>\n      <td>(980) 960-9800</td>\n      <td>1687.725156</td>\n      <td>VsEpjrGJu8RJhreGChT7Uw</td>\n      <td>https://s3-media2.fl.yelpcdn.com/bphoto/2TtM_Z...</td>\n      <td>False</td>\n      <td>{'address1': '220 E Trade St', 'address2': 'St...</td>\n      <td>Nuvole Rooftop TwentyTwo</td>\n      <td>+19809609800</td>\n      <td>$$</td>\n      <td>4.0</td>\n      <td>86</td>\n      <td>[delivery]</td>\n      <td>https://www.yelp.com/biz/nuvole-rooftop-twenty...</td>\n    </tr>\n  </tbody>\n</table>\n<p>101 rows × 16 columns</p>\n</div>"
     },
     "metadata": {},
     "execution_count": 5
    }
   ],
   "source": [
    "yelp_dataframe('Restaurants', [10001, 10002, 10003, 10007], 50, url, MY_API_KEY)"
   ]
  }
 ]
}