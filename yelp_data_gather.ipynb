{
 "metadata": {
  "language_info": {
   "codemirror_mode": {
    "name": "ipython",
    "version": 3
   },
   "file_extension": ".py",
   "mimetype": "text/x-python",
   "name": "python",
   "nbconvert_exporter": "python",
   "pygments_lexer": "ipython3",
   "version": "3.6.9-final"
  },
  "orig_nbformat": 2,
  "kernelspec": {
   "name": "python3",
   "display_name": "Python 3"
  }
 },
 "nbformat": 4,
 "nbformat_minor": 2,
 "cells": [
  {
   "cell_type": "code",
   "execution_count": 1,
   "metadata": {},
   "outputs": [],
   "source": [
    "import pandas as pd\n",
    "import numpy as np\n",
    "import requests\n",
    "import json\n",
    "import time\n",
    "from bs4 import BeautifulSoup"
   ]
  },
  {
   "cell_type": "code",
   "execution_count": 2,
   "metadata": {},
   "outputs": [],
   "source": [
    "url = 'https://api.yelp.com/v3/businesses/search'\n",
    "response = requests.get(url)\n",
    "\n",
    "f = open(\"./apikey.txt\", \"r\")\n",
    "MY_API_KEY = (f.read())"
   ]
  },
  {
   "cell_type": "code",
   "execution_count": 3,
   "metadata": {},
   "outputs": [],
   "source": [
    "def yelp_data(search_term, zipcode, limit, url, api_key):\n",
    "    headers = {'Authorization': 'Bearer {}'.format(api_key),}\n",
    "\n",
    "    url_params = {\n",
    "                'term': search_term.replace(' ', '+'),\n",
    "                'location': zipcode,\n",
    "                'limit': limit}\n",
    "    a = requests.get(url, headers = headers, params= url_params)\n",
    "    b = a.text\n",
    "    df = json.loads(b)\n",
    "    return pd.DataFrame(df['businesses'])"
   ]
  },
  {
   "cell_type": "code",
   "execution_count": 4,
   "metadata": {},
   "outputs": [],
   "source": [
    "def yelp_dataframe(search_term, list_of_zipcodes, limit, url, api_key):\n",
    "    main = []\n",
    "    maindf = pd.DataFrame()\n",
    "    for i in range(0, len(list_of_zipcodes)):\n",
    "        main.append(yelp_data(search_term, list_of_zipcodes[i], limit, url, api_key))\n",
    "        time.sleep(2)\n",
    "    for i in main:\n",
    "        maindf = pd.concat([i, maindf], axis = 0)\n",
    "    return maindf"
   ]
  },
  {
   "cell_type": "code",
   "execution_count": 5,
   "metadata": {},
   "outputs": [],
   "source": [
    "def closed_dataframe(list_of_restaurants, list_of_zipcodes, url, api_key):\n",
    "    ylist = []\n",
    "    gdataframe = pd.DataFrame()\n",
    "    for i in range(0, len(list_of_restaurants)):\n",
    "        ylist.append(yelp_data(list_of_restaurants[i], list_of_zipcodes[i],             1, url, api_key))\n",
    "    for i in ylist:\n",
    "        gdataframe = pd.concat([i, gdataframe], axis = 0)\n",
    "    return gdataframe"
   ]
  },
  {
   "cell_type": "code",
   "execution_count": 6,
   "metadata": {},
   "outputs": [],
   "source": [
    "def get_features(url):\n",
    "    page = requests.get(url)\n",
    "    soup = BeautifulSoup(page.content, 'html.parser')\n",
    "    l = soup.find_all(class_= \"lemon--span__373c0__3997G text__373c0__2Kxyz text-color--normal__373c0__3xep9 text-align--left__373c0__2XGa- text-weight--semibold__373c0__2l0fe text-size--large__373c0__3t60B\")\n",
    "    v = []\n",
    "    for i in l:\n",
    "        v.append(i.text.strip())\n",
    "    return v"
   ]
  },
  {
   "cell_type": "code",
   "execution_count": 7,
   "metadata": {},
   "outputs": [],
   "source": [
    "def outdoor_seating(array_of_lists):\n",
    "    r = []\n",
    "    for i in array_of_lists:\n",
    "        if 'Outdoor seating' in i:\n",
    "            r.append(1)\n",
    "        else:\n",
    "            r.append(0)\n",
    "    return r"
   ]
  },
  {
   "cell_type": "code",
   "execution_count": 8,
   "metadata": {},
   "outputs": [],
   "source": [
    "def outdoor_seating_column(alias_column):\n",
    "    w = []\n",
    "    for i in list(alias_column):\n",
    "        url = f'https://www.yelp.com/biz/{i}'\n",
    "        w.append(get_features(url))\n",
    "    return outdoor_seating(w)"
   ]
  },
  {
   "cell_type": "code",
   "execution_count": 9,
   "metadata": {},
   "outputs": [],
   "source": [
    "closeddf = pd.read_excel('Closed restaurant zip codes.xlsx')"
   ]
  },
  {
   "cell_type": "code",
   "execution_count": 10,
   "metadata": {},
   "outputs": [],
   "source": [
    "closedlist = closeddf.Restaurant.unique()"
   ]
  },
  {
   "cell_type": "code",
   "execution_count": 11,
   "metadata": {},
   "outputs": [],
   "source": [
    "ziplist = list(closeddf.zip_code)"
   ]
  },
  {
   "cell_type": "code",
   "execution_count": 12,
   "metadata": {},
   "outputs": [],
   "source": [
    "opendf = yelp_dataframe('Restaurants', ziplist, 35, url, MY_API_KEY)"
   ]
  },
  {
   "cell_type": "code",
   "execution_count": 41,
   "metadata": {},
   "outputs": [],
   "source": [
    "opendf.drop_duplicates(subset = ['alias'], inplace = True)"
   ]
  },
  {
   "cell_type": "code",
   "execution_count": 42,
   "metadata": {},
   "outputs": [],
   "source": [
    "opendf['permanently closed'] = opendf.id.apply(lambda x: 0 if x != 0 else x)"
   ]
  },
  {
   "cell_type": "code",
   "execution_count": 44,
   "metadata": {},
   "outputs": [],
   "source": [
    "opendf['outdoor_seating'] = outdoor_seating_column(opendf.alias)"
   ]
  },
  {
   "cell_type": "code",
   "execution_count": 47,
   "metadata": {},
   "outputs": [],
   "source": [
    "opendf.to_csv('openrest.csv')"
   ]
  },
  {
   "cell_type": "code",
   "execution_count": null,
   "metadata": {},
   "outputs": [],
   "source": [
    "e = closed_dataframe(closedlist, ziplist, url, MY_API_KEY)"
   ]
  },
  {
   "cell_type": "code",
   "execution_count": null,
   "metadata": {},
   "outputs": [],
   "source": [
    "e['permanently closed'] = e.index +1"
   ]
  },
  {
   "cell_type": "code",
   "execution_count": null,
   "metadata": {},
   "outputs": [],
   "source": [
    "e['outdoor_seating'] = outdoor_seating_column(e.alias)"
   ]
  },
  {
   "cell_type": "code",
   "execution_count": null,
   "metadata": {},
   "outputs": [],
   "source": [
    "e.to_csv('closed.csv')"
   ]
  }
 ]
}