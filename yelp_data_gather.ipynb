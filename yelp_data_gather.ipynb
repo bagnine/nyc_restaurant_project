{
 "metadata": {
  "language_info": {
   "codemirror_mode": {
    "name": "ipython",
    "version": 3
   },
   "file_extension": ".py",
   "mimetype": "text/x-python",
   "name": "python",
   "nbconvert_exporter": "python",
   "pygments_lexer": "ipython3",
   "version": "3.6.9-final"
  },
  "orig_nbformat": 2,
  "kernelspec": {
   "name": "python3",
   "display_name": "Python 3"
  }
 },
 "nbformat": 4,
 "nbformat_minor": 2,
 "cells": [
  {
   "cell_type": "code",
   "execution_count": 2,
   "metadata": {},
   "outputs": [],
   "source": [
    "import pandas as pd\n",
    "import numpy as np\n",
    "import requests\n",
    "import json\n",
    "import time\n",
    "from bs4 import BeautifulSoup"
   ]
  },
  {
   "cell_type": "code",
   "execution_count": 5,
   "metadata": {},
   "outputs": [],
   "source": [
    "url = 'https://api.yelp.com/v3/businesses/search'\n",
    "response = requests.get(url)\n",
    "\n",
    "f = open(\"./apikey.txt\", \"r\")\n",
    "MY_API_KEY = (f.read())"
   ]
  },
  {
   "cell_type": "code",
   "execution_count": 6,
   "metadata": {},
   "outputs": [],
   "source": [
    "def yelp_data(search_term, zipcode, limit, url, api_key):\n",
    "    headers = {'Authorization': 'Bearer {}'.format(MY_API_KEY),}\n",
    "\n",
    "    url_params = {\n",
    "                'term': search_term.replace(' ', '+'),\n",
    "                'location': 'New York, NY, {zipcode}',\n",
    "                'limit': limit}\n",
    "    a = requests.get(url, headers = headers, params= url_params)\n",
    "    b = a.text\n",
    "    df = json.loads(b)\n",
    "    return pd.DataFrame(df['businesses'])"
   ]
  },
  {
   "cell_type": "code",
   "execution_count": 7,
   "metadata": {},
   "outputs": [],
   "source": [
    "def yelp_dataframe(search_term, list_of_zipcodes, limit, url, api_key):\n",
    "    main = []\n",
    "    maindf = pd.DataFrame()\n",
    "    for i in range(0, len(list_of_zipcodes)):\n",
    "        main.append(yelp_data(search_term, i, limit, url, api_key))\n",
    "    for i in main:\n",
    "        maindf = pd.concat([i, maindf], axis = 0)\n",
    "    return maindf"
   ]
  },
  {
   "cell_type": "code",
   "execution_count": 88,
   "metadata": {},
   "outputs": [],
   "source": [
    "testdf = yelp_dataframe('Restaurants', [10001, 10002, 10003, 10007], 50, url, MY_API_KEY)"
   ]
  },
  {
   "cell_type": "code",
   "execution_count": 123,
   "metadata": {},
   "outputs": [],
   "source": [
    "def get_features(url):\n",
    "    page = requests.get(url)\n",
    "    soup = BeautifulSoup(page.content, 'html.parser')\n",
    "    l = soup.find_all(class_= \"lemon--span__373c0__3997G text__373c0__2Kxyz text-color--normal__373c0__3xep9 text-align--left__373c0__2XGa- text-weight--semibold__373c0__2l0fe text-size--large__373c0__3t60B\")\n",
    "    v = []\n",
    "    for i in l:\n",
    "        v.append(i.text.strip())\n",
    "    return v"
   ]
  },
  {
   "cell_type": "code",
   "execution_count": 128,
   "metadata": {},
   "outputs": [],
   "source": [
    "w = [get_features('https://www.yelp.com/biz/robertas-brooklyn-2?osq=robertas'), get_features('https://www.yelp.com/biz/maite-brooklyn?osq=maite'), get_features('https://www.yelp.com/biz/samesa-brooklyn?osq=samesa')]"
   ]
  },
  {
   "cell_type": "code",
   "execution_count": 129,
   "metadata": {},
   "outputs": [
    {
     "output_type": "execute_result",
     "data": {
      "text/plain": [
       "[['Outdoor seating',\n",
       "  'Delivery',\n",
       "  'Takeout',\n",
       "  'Sit-down dining',\n",
       "  'Curbside pickup',\n",
       "  'Masks required',\n",
       "  'Staff wears masks',\n",
       "  'Staff wears gloves',\n",
       "  'Limited capacity',\n",
       "  'Health Score',\n",
       "  'Offers Delivery',\n",
       "  'Offers Takeout'],\n",
       " ['Outdoor seating',\n",
       "  'Delivery',\n",
       "  'Takeout',\n",
       "  'Sit-down dining',\n",
       "  'Staff wears masks',\n",
       "  'Hand sanitizer provided',\n",
       "  'Sanitizing between customers',\n",
       "  'Social distancing enforced',\n",
       "  'Health Score',\n",
       "  'Takes Reservations',\n",
       "  'Offers Takeout'],\n",
       " ['Health Score', 'Takes Reservations', 'Offers Delivery', 'Offers Takeout']]"
      ]
     },
     "metadata": {},
     "execution_count": 129
    }
   ],
   "source": [
    "w"
   ]
  },
  {
   "cell_type": "code",
   "execution_count": 126,
   "metadata": {},
   "outputs": [],
   "source": [
    "def outdoor_seating(array_of_lists):\n",
    "    r = []\n",
    "    for i in array_of_lists:\n",
    "        if 'Outdoor seating' in i:\n",
    "            r.append(1)\n",
    "        else:\n",
    "            r.append(0)\n",
    "    return r"
   ]
  },
  {
   "cell_type": "code",
   "execution_count": 130,
   "metadata": {},
   "outputs": [
    {
     "output_type": "execute_result",
     "data": {
      "text/plain": [
       "[1, 1, 0]"
      ]
     },
     "metadata": {},
     "execution_count": 130
    }
   ],
   "source": [
    "outdoor_seating(w)"
   ]
  },
  {
   "cell_type": "code",
   "execution_count": null,
   "metadata": {},
   "outputs": [],
   "source": []
  }
 ]
}