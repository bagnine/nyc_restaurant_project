{
 "cells": [
  {
   "cell_type": "code",
   "execution_count": 1,
   "metadata": {},
   "outputs": [],
   "source": [
    "import pandas as pd"
   ]
  },
  {
   "cell_type": "code",
   "execution_count": 2,
   "metadata": {},
   "outputs": [],
   "source": [
    "df = pd.read_excel('pop density by zip ny.xlsx')"
   ]
  },
  {
   "cell_type": "code",
   "execution_count": 3,
   "metadata": {},
   "outputs": [
    {
     "data": {
      "text/html": [
       "<div>\n",
       "<style scoped>\n",
       "    .dataframe tbody tr th:only-of-type {\n",
       "        vertical-align: middle;\n",
       "    }\n",
       "\n",
       "    .dataframe tbody tr th {\n",
       "        vertical-align: top;\n",
       "    }\n",
       "\n",
       "    .dataframe thead th {\n",
       "        text-align: right;\n",
       "    }\n",
       "</style>\n",
       "<table border=\"1\" class=\"dataframe\">\n",
       "  <thead>\n",
       "    <tr style=\"text-align: right;\">\n",
       "      <th></th>\n",
       "      <th>Rank</th>\n",
       "      <th>Population Density</th>\n",
       "      <th>Zip / Population</th>\n",
       "    </tr>\n",
       "  </thead>\n",
       "  <tbody>\n",
       "    <tr>\n",
       "      <th>0</th>\n",
       "      <td>1</td>\n",
       "      <td>146,955.3/sq mi</td>\n",
       "      <td>10028 / 46,169</td>\n",
       "    </tr>\n",
       "    <tr>\n",
       "      <th>1</th>\n",
       "      <td>2</td>\n",
       "      <td>132,677.4/sq mi</td>\n",
       "      <td>10128 / 62,447</td>\n",
       "    </tr>\n",
       "    <tr>\n",
       "      <th>2</th>\n",
       "      <td>3</td>\n",
       "      <td>132,095.7/sq mi</td>\n",
       "      <td>10075 / 24,377</td>\n",
       "    </tr>\n",
       "    <tr>\n",
       "      <th>3</th>\n",
       "      <td>4</td>\n",
       "      <td>129,548.9/sq mi</td>\n",
       "      <td>10025 / 97,373</td>\n",
       "    </tr>\n",
       "    <tr>\n",
       "      <th>4</th>\n",
       "      <td>5</td>\n",
       "      <td>123,875.9/sq mi</td>\n",
       "      <td>10023 / 60,762</td>\n",
       "    </tr>\n",
       "    <tr>\n",
       "      <th>...</th>\n",
       "      <td>...</td>\n",
       "      <td>...</td>\n",
       "      <td>...</td>\n",
       "    </tr>\n",
       "    <tr>\n",
       "      <th>1766</th>\n",
       "      <td>1767</td>\n",
       "      <td>0.9/sq mi</td>\n",
       "      <td>12855 / 172</td>\n",
       "    </tr>\n",
       "    <tr>\n",
       "      <th>1767</th>\n",
       "      <td>1768</td>\n",
       "      <td>0.9/sq mi</td>\n",
       "      <td>12139 / 226</td>\n",
       "    </tr>\n",
       "    <tr>\n",
       "      <th>1768</th>\n",
       "      <td>1769</td>\n",
       "      <td>0.9/sq mi</td>\n",
       "      <td>12847 / 418</td>\n",
       "    </tr>\n",
       "    <tr>\n",
       "      <th>1769</th>\n",
       "      <td>1770</td>\n",
       "      <td>0.8/sq mi</td>\n",
       "      <td>12922 / 36</td>\n",
       "    </tr>\n",
       "    <tr>\n",
       "      <th>1770</th>\n",
       "      <td>1771</td>\n",
       "      <td>0.2/sq mi</td>\n",
       "      <td>13353 / 31</td>\n",
       "    </tr>\n",
       "  </tbody>\n",
       "</table>\n",
       "<p>1771 rows × 3 columns</p>\n",
       "</div>"
      ],
      "text/plain": [
       "      Rank Population Density  Zip / Population\n",
       "0        1     146,955.3/sq mi   10028 / 46,169\n",
       "1        2     132,677.4/sq mi   10128 / 62,447\n",
       "2        3     132,095.7/sq mi   10075 / 24,377\n",
       "3        4     129,548.9/sq mi   10025 / 97,373\n",
       "4        5     123,875.9/sq mi   10023 / 60,762\n",
       "...    ...                 ...              ...\n",
       "1766  1767           0.9/sq mi      12855 / 172\n",
       "1767  1768           0.9/sq mi      12139 / 226\n",
       "1768  1769           0.9/sq mi      12847 / 418\n",
       "1769  1770           0.8/sq mi       12922 / 36\n",
       "1770  1771           0.2/sq mi       13353 / 31\n",
       "\n",
       "[1771 rows x 3 columns]"
      ]
     },
     "execution_count": 3,
     "metadata": {},
     "output_type": "execute_result"
    }
   ],
   "source": [
    "df"
   ]
  },
  {
   "cell_type": "code",
   "execution_count": 4,
   "metadata": {},
   "outputs": [
    {
     "data": {
      "text/plain": [
       "0       146,955.3/sq mi\n",
       "1       132,677.4/sq mi\n",
       "2       132,095.7/sq mi\n",
       "3       129,548.9/sq mi\n",
       "4       123,875.9/sq mi\n",
       "             ...       \n",
       "1766          0.9/sq mi\n",
       "1767          0.9/sq mi\n",
       "1768          0.9/sq mi\n",
       "1769          0.8/sq mi\n",
       "1770          0.2/sq mi\n",
       "Name: Population Density , Length: 1771, dtype: object"
      ]
     },
     "execution_count": 4,
     "metadata": {},
     "output_type": "execute_result"
    }
   ],
   "source": [
    "df['Population Density ']"
   ]
  },
  {
   "cell_type": "code",
   "execution_count": 5,
   "metadata": {},
   "outputs": [
    {
     "data": {
      "text/plain": [
       "0       10028 / 46,169\n",
       "1       10128 / 62,447\n",
       "2       10075 / 24,377\n",
       "3       10025 / 97,373\n",
       "4       10023 / 60,762\n",
       "             ...      \n",
       "1766       12855 / 172\n",
       "1767       12139 / 226\n",
       "1768       12847 / 418\n",
       "1769        12922 / 36\n",
       "1770        13353 / 31\n",
       "Name: Zip / Population, Length: 1771, dtype: object"
      ]
     },
     "execution_count": 5,
     "metadata": {},
     "output_type": "execute_result"
    }
   ],
   "source": [
    "df['Zip / Population']"
   ]
  },
  {
   "cell_type": "code",
   "execution_count": 6,
   "metadata": {},
   "outputs": [],
   "source": [
    "df.rename(columns={'Population Density ':'Population Density'}, inplace=True)"
   ]
  },
  {
   "cell_type": "code",
   "execution_count": 7,
   "metadata": {},
   "outputs": [
    {
     "data": {
      "text/plain": [
       "['146,955.3', 'sq mi']"
      ]
     },
     "execution_count": 7,
     "metadata": {},
     "output_type": "execute_result"
    }
   ],
   "source": [
    "df['Population Density'][0].split(\"/\")"
   ]
  },
  {
   "cell_type": "code",
   "execution_count": 8,
   "metadata": {},
   "outputs": [],
   "source": [
    "df['Population Density'] = df['Population Density'].map(lambda x: x.split(\"/\"))"
   ]
  },
  {
   "cell_type": "code",
   "execution_count": 9,
   "metadata": {},
   "outputs": [],
   "source": [
    "df['Pop_density'] = df['Population Density'].map(lambda x: x[0])"
   ]
  },
  {
   "cell_type": "code",
   "execution_count": 10,
   "metadata": {},
   "outputs": [
    {
     "data": {
      "text/plain": [
       "0       146,955.3\n",
       "1       132,677.4\n",
       "2       132,095.7\n",
       "3       129,548.9\n",
       "4       123,875.9\n",
       "          ...    \n",
       "1766          0.9\n",
       "1767          0.9\n",
       "1768          0.9\n",
       "1769          0.8\n",
       "1770          0.2\n",
       "Name: Pop_density, Length: 1771, dtype: object"
      ]
     },
     "execution_count": 10,
     "metadata": {},
     "output_type": "execute_result"
    }
   ],
   "source": [
    "df['Pop_density']"
   ]
  },
  {
   "cell_type": "code",
   "execution_count": 11,
   "metadata": {},
   "outputs": [],
   "source": [
    "df['Zip / Population'] = df['Zip / Population'].map(lambda x: x.split(\"/\"))"
   ]
  },
  {
   "cell_type": "code",
   "execution_count": 12,
   "metadata": {},
   "outputs": [],
   "source": [
    "df['zip_code'] = df['Zip / Population'].map(lambda x: x[0])"
   ]
  },
  {
   "cell_type": "code",
   "execution_count": 13,
   "metadata": {},
   "outputs": [
    {
     "data": {
      "text/plain": [
       "'10028'"
      ]
     },
     "execution_count": 13,
     "metadata": {},
     "output_type": "execute_result"
    }
   ],
   "source": [
    "df['zip_code'][0].replace(u'\\xa0', u'')"
   ]
  },
  {
   "cell_type": "code",
   "execution_count": 14,
   "metadata": {},
   "outputs": [],
   "source": [
    "df['zip_code'] = df['zip_code'].map(lambda x: x.replace(u'\\xa0', u''))"
   ]
  },
  {
   "cell_type": "code",
   "execution_count": 15,
   "metadata": {},
   "outputs": [
    {
     "data": {
      "text/html": [
       "<div>\n",
       "<style scoped>\n",
       "    .dataframe tbody tr th:only-of-type {\n",
       "        vertical-align: middle;\n",
       "    }\n",
       "\n",
       "    .dataframe tbody tr th {\n",
       "        vertical-align: top;\n",
       "    }\n",
       "\n",
       "    .dataframe thead th {\n",
       "        text-align: right;\n",
       "    }\n",
       "</style>\n",
       "<table border=\"1\" class=\"dataframe\">\n",
       "  <thead>\n",
       "    <tr style=\"text-align: right;\">\n",
       "      <th></th>\n",
       "      <th>Rank</th>\n",
       "      <th>Population Density</th>\n",
       "      <th>Zip / Population</th>\n",
       "      <th>Pop_density</th>\n",
       "      <th>zip_code</th>\n",
       "    </tr>\n",
       "  </thead>\n",
       "  <tbody>\n",
       "    <tr>\n",
       "      <th>0</th>\n",
       "      <td>1</td>\n",
       "      <td>[146,955.3, sq mi]</td>\n",
       "      <td>[10028 ,  46,169]</td>\n",
       "      <td>146,955.3</td>\n",
       "      <td>10028</td>\n",
       "    </tr>\n",
       "    <tr>\n",
       "      <th>1</th>\n",
       "      <td>2</td>\n",
       "      <td>[132,677.4, sq mi]</td>\n",
       "      <td>[10128 ,  62,447]</td>\n",
       "      <td>132,677.4</td>\n",
       "      <td>10128</td>\n",
       "    </tr>\n",
       "    <tr>\n",
       "      <th>2</th>\n",
       "      <td>3</td>\n",
       "      <td>[132,095.7, sq mi]</td>\n",
       "      <td>[10075 ,  24,377]</td>\n",
       "      <td>132,095.7</td>\n",
       "      <td>10075</td>\n",
       "    </tr>\n",
       "    <tr>\n",
       "      <th>3</th>\n",
       "      <td>4</td>\n",
       "      <td>[129,548.9, sq mi]</td>\n",
       "      <td>[10025 ,  97,373]</td>\n",
       "      <td>129,548.9</td>\n",
       "      <td>10025</td>\n",
       "    </tr>\n",
       "    <tr>\n",
       "      <th>4</th>\n",
       "      <td>5</td>\n",
       "      <td>[123,875.9, sq mi]</td>\n",
       "      <td>[10023 ,  60,762]</td>\n",
       "      <td>123,875.9</td>\n",
       "      <td>10023</td>\n",
       "    </tr>\n",
       "  </tbody>\n",
       "</table>\n",
       "</div>"
      ],
      "text/plain": [
       "   Rank  Population Density   Zip / Population Pop_density zip_code\n",
       "0     1  [146,955.3, sq mi]  [10028 ,  46,169]   146,955.3    10028\n",
       "1     2  [132,677.4, sq mi]  [10128 ,  62,447]   132,677.4    10128\n",
       "2     3  [132,095.7, sq mi]  [10075 ,  24,377]   132,095.7    10075\n",
       "3     4  [129,548.9, sq mi]  [10025 ,  97,373]   129,548.9    10025\n",
       "4     5  [123,875.9, sq mi]  [10023 ,  60,762]   123,875.9    10023"
      ]
     },
     "execution_count": 15,
     "metadata": {},
     "output_type": "execute_result"
    }
   ],
   "source": [
    "df.head()"
   ]
  },
  {
   "cell_type": "code",
   "execution_count": 19,
   "metadata": {},
   "outputs": [],
   "source": [
    "df['Pop_density'] = df['Pop_density'].map(lambda x: x.replace(',',''))"
   ]
  },
  {
   "cell_type": "code",
   "execution_count": 20,
   "metadata": {},
   "outputs": [
    {
     "data": {
      "text/plain": [
       "0       146955.3\n",
       "1       132677.4\n",
       "2       132095.7\n",
       "3       129548.9\n",
       "4       123875.9\n",
       "          ...   \n",
       "1766         0.9\n",
       "1767         0.9\n",
       "1768         0.9\n",
       "1769         0.8\n",
       "1770         0.2\n",
       "Name: Pop_density, Length: 1771, dtype: object"
      ]
     },
     "execution_count": 20,
     "metadata": {},
     "output_type": "execute_result"
    }
   ],
   "source": [
    "df['Pop_density']"
   ]
  },
  {
   "cell_type": "code",
   "execution_count": 22,
   "metadata": {},
   "outputs": [
    {
     "data": {
      "text/html": [
       "<div>\n",
       "<style scoped>\n",
       "    .dataframe tbody tr th:only-of-type {\n",
       "        vertical-align: middle;\n",
       "    }\n",
       "\n",
       "    .dataframe tbody tr th {\n",
       "        vertical-align: top;\n",
       "    }\n",
       "\n",
       "    .dataframe thead th {\n",
       "        text-align: right;\n",
       "    }\n",
       "</style>\n",
       "<table border=\"1\" class=\"dataframe\">\n",
       "  <thead>\n",
       "    <tr style=\"text-align: right;\">\n",
       "      <th></th>\n",
       "      <th>Rank</th>\n",
       "      <th>Population Density</th>\n",
       "      <th>Zip / Population</th>\n",
       "      <th>Pop_density</th>\n",
       "      <th>zip_code</th>\n",
       "    </tr>\n",
       "  </thead>\n",
       "  <tbody>\n",
       "    <tr>\n",
       "      <th>0</th>\n",
       "      <td>1</td>\n",
       "      <td>[146,955.3, sq mi]</td>\n",
       "      <td>[10028 ,  46,169]</td>\n",
       "      <td>146955.3</td>\n",
       "      <td>10028</td>\n",
       "    </tr>\n",
       "    <tr>\n",
       "      <th>1</th>\n",
       "      <td>2</td>\n",
       "      <td>[132,677.4, sq mi]</td>\n",
       "      <td>[10128 ,  62,447]</td>\n",
       "      <td>132677.4</td>\n",
       "      <td>10128</td>\n",
       "    </tr>\n",
       "    <tr>\n",
       "      <th>2</th>\n",
       "      <td>3</td>\n",
       "      <td>[132,095.7, sq mi]</td>\n",
       "      <td>[10075 ,  24,377]</td>\n",
       "      <td>132095.7</td>\n",
       "      <td>10075</td>\n",
       "    </tr>\n",
       "    <tr>\n",
       "      <th>3</th>\n",
       "      <td>4</td>\n",
       "      <td>[129,548.9, sq mi]</td>\n",
       "      <td>[10025 ,  97,373]</td>\n",
       "      <td>129548.9</td>\n",
       "      <td>10025</td>\n",
       "    </tr>\n",
       "    <tr>\n",
       "      <th>4</th>\n",
       "      <td>5</td>\n",
       "      <td>[123,875.9, sq mi]</td>\n",
       "      <td>[10023 ,  60,762]</td>\n",
       "      <td>123875.9</td>\n",
       "      <td>10023</td>\n",
       "    </tr>\n",
       "    <tr>\n",
       "      <th>...</th>\n",
       "      <td>...</td>\n",
       "      <td>...</td>\n",
       "      <td>...</td>\n",
       "      <td>...</td>\n",
       "      <td>...</td>\n",
       "    </tr>\n",
       "    <tr>\n",
       "      <th>1766</th>\n",
       "      <td>1767</td>\n",
       "      <td>[0.9, sq mi]</td>\n",
       "      <td>[12855 ,  172]</td>\n",
       "      <td>0.9</td>\n",
       "      <td>12855</td>\n",
       "    </tr>\n",
       "    <tr>\n",
       "      <th>1767</th>\n",
       "      <td>1768</td>\n",
       "      <td>[0.9, sq mi]</td>\n",
       "      <td>[12139 ,  226]</td>\n",
       "      <td>0.9</td>\n",
       "      <td>12139</td>\n",
       "    </tr>\n",
       "    <tr>\n",
       "      <th>1768</th>\n",
       "      <td>1769</td>\n",
       "      <td>[0.9, sq mi]</td>\n",
       "      <td>[12847 ,  418]</td>\n",
       "      <td>0.9</td>\n",
       "      <td>12847</td>\n",
       "    </tr>\n",
       "    <tr>\n",
       "      <th>1769</th>\n",
       "      <td>1770</td>\n",
       "      <td>[0.8, sq mi]</td>\n",
       "      <td>[12922 ,  36]</td>\n",
       "      <td>0.8</td>\n",
       "      <td>12922</td>\n",
       "    </tr>\n",
       "    <tr>\n",
       "      <th>1770</th>\n",
       "      <td>1771</td>\n",
       "      <td>[0.2, sq mi]</td>\n",
       "      <td>[13353 ,  31]</td>\n",
       "      <td>0.2</td>\n",
       "      <td>13353</td>\n",
       "    </tr>\n",
       "  </tbody>\n",
       "</table>\n",
       "<p>1771 rows × 5 columns</p>\n",
       "</div>"
      ],
      "text/plain": [
       "      Rank  Population Density   Zip / Population  Pop_density zip_code\n",
       "0        1  [146,955.3, sq mi]  [10028 ,  46,169]     146955.3    10028\n",
       "1        2  [132,677.4, sq mi]  [10128 ,  62,447]     132677.4    10128\n",
       "2        3  [132,095.7, sq mi]  [10075 ,  24,377]     132095.7    10075\n",
       "3        4  [129,548.9, sq mi]  [10025 ,  97,373]     129548.9    10025\n",
       "4        5  [123,875.9, sq mi]  [10023 ,  60,762]     123875.9    10023\n",
       "...    ...                 ...                ...          ...      ...\n",
       "1766  1767        [0.9, sq mi]     [12855 ,  172]          0.9    12855\n",
       "1767  1768        [0.9, sq mi]     [12139 ,  226]          0.9    12139\n",
       "1768  1769        [0.9, sq mi]     [12847 ,  418]          0.9    12847\n",
       "1769  1770        [0.8, sq mi]      [12922 ,  36]          0.8    12922\n",
       "1770  1771        [0.2, sq mi]      [13353 ,  31]          0.2    13353\n",
       "\n",
       "[1771 rows x 5 columns]"
      ]
     },
     "execution_count": 22,
     "metadata": {},
     "output_type": "execute_result"
    }
   ],
   "source": [
    "df.astype({'Pop_density': 'float64'})"
   ]
  },
  {
   "cell_type": "code",
   "execution_count": 23,
   "metadata": {},
   "outputs": [
    {
     "data": {
      "text/plain": [
       "Index(['Rank', 'Population Density', 'Zip / Population', 'Pop_density',\n",
       "       'zip_code'],\n",
       "      dtype='object')"
      ]
     },
     "execution_count": 23,
     "metadata": {},
     "output_type": "execute_result"
    }
   ],
   "source": [
    "df.columns"
   ]
  },
  {
   "cell_type": "code",
   "execution_count": 24,
   "metadata": {},
   "outputs": [],
   "source": [
    "df_pop_density = df[['Pop_density','zip_code']]"
   ]
  },
  {
   "cell_type": "code",
   "execution_count": 25,
   "metadata": {},
   "outputs": [
    {
     "data": {
      "text/html": [
       "<div>\n",
       "<style scoped>\n",
       "    .dataframe tbody tr th:only-of-type {\n",
       "        vertical-align: middle;\n",
       "    }\n",
       "\n",
       "    .dataframe tbody tr th {\n",
       "        vertical-align: top;\n",
       "    }\n",
       "\n",
       "    .dataframe thead th {\n",
       "        text-align: right;\n",
       "    }\n",
       "</style>\n",
       "<table border=\"1\" class=\"dataframe\">\n",
       "  <thead>\n",
       "    <tr style=\"text-align: right;\">\n",
       "      <th></th>\n",
       "      <th>Pop_density</th>\n",
       "      <th>zip_code</th>\n",
       "    </tr>\n",
       "  </thead>\n",
       "  <tbody>\n",
       "    <tr>\n",
       "      <th>0</th>\n",
       "      <td>146955.3</td>\n",
       "      <td>10028</td>\n",
       "    </tr>\n",
       "    <tr>\n",
       "      <th>1</th>\n",
       "      <td>132677.4</td>\n",
       "      <td>10128</td>\n",
       "    </tr>\n",
       "    <tr>\n",
       "      <th>2</th>\n",
       "      <td>132095.7</td>\n",
       "      <td>10075</td>\n",
       "    </tr>\n",
       "    <tr>\n",
       "      <th>3</th>\n",
       "      <td>129548.9</td>\n",
       "      <td>10025</td>\n",
       "    </tr>\n",
       "    <tr>\n",
       "      <th>4</th>\n",
       "      <td>123875.9</td>\n",
       "      <td>10023</td>\n",
       "    </tr>\n",
       "    <tr>\n",
       "      <th>...</th>\n",
       "      <td>...</td>\n",
       "      <td>...</td>\n",
       "    </tr>\n",
       "    <tr>\n",
       "      <th>1766</th>\n",
       "      <td>0.9</td>\n",
       "      <td>12855</td>\n",
       "    </tr>\n",
       "    <tr>\n",
       "      <th>1767</th>\n",
       "      <td>0.9</td>\n",
       "      <td>12139</td>\n",
       "    </tr>\n",
       "    <tr>\n",
       "      <th>1768</th>\n",
       "      <td>0.9</td>\n",
       "      <td>12847</td>\n",
       "    </tr>\n",
       "    <tr>\n",
       "      <th>1769</th>\n",
       "      <td>0.8</td>\n",
       "      <td>12922</td>\n",
       "    </tr>\n",
       "    <tr>\n",
       "      <th>1770</th>\n",
       "      <td>0.2</td>\n",
       "      <td>13353</td>\n",
       "    </tr>\n",
       "  </tbody>\n",
       "</table>\n",
       "<p>1771 rows × 2 columns</p>\n",
       "</div>"
      ],
      "text/plain": [
       "     Pop_density zip_code\n",
       "0       146955.3    10028\n",
       "1       132677.4    10128\n",
       "2       132095.7    10075\n",
       "3       129548.9    10025\n",
       "4       123875.9    10023\n",
       "...          ...      ...\n",
       "1766         0.9    12855\n",
       "1767         0.9    12139\n",
       "1768         0.9    12847\n",
       "1769         0.8    12922\n",
       "1770         0.2    13353\n",
       "\n",
       "[1771 rows x 2 columns]"
      ]
     },
     "execution_count": 25,
     "metadata": {},
     "output_type": "execute_result"
    }
   ],
   "source": [
    "df_pop_density"
   ]
  },
  {
   "cell_type": "code",
   "execution_count": null,
   "metadata": {},
   "outputs": [],
   "source": []
  }
 ],
 "metadata": {
  "kernelspec": {
   "display_name": "Python 3",
   "language": "python",
   "name": "python3"
  },
  "language_info": {
   "codemirror_mode": {
    "name": "ipython",
    "version": 3
   },
   "file_extension": ".py",
   "mimetype": "text/x-python",
   "name": "python",
   "nbconvert_exporter": "python",
   "pygments_lexer": "ipython3",
   "version": "3.6.9"
  }
 },
 "nbformat": 4,
 "nbformat_minor": 4
}
