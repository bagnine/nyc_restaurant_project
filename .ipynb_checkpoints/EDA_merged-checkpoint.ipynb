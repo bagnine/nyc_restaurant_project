{
 "cells": [
  {
   "cell_type": "markdown",
   "metadata": {},
   "source": [
    "## Importing Data and Libraries"
   ]
  },
  {
   "cell_type": "code",
   "execution_count": 1,
   "metadata": {},
   "outputs": [],
   "source": [
    "import pandas as pd\n",
    "import numpy as np\n",
    "import matplotlib.pyplot as plt \n",
    "import ast\n",
    "from haversine import haversine, Unit"
   ]
  },
  {
   "cell_type": "code",
   "execution_count": 2,
   "metadata": {},
   "outputs": [],
   "source": [
    "closeddf = pd.read_csv('data/closed.csv')\n",
    "opendf = pd.read_csv('data/openrest.csv')"
   ]
  },
  {
   "cell_type": "markdown",
   "metadata": {},
   "source": [
    "## Dropping less relevant rows and columns and combining the data"
   ]
  },
  {
   "cell_type": "code",
   "execution_count": 3,
   "metadata": {},
   "outputs": [],
   "source": [
    "#dropping columns from the open restaurants data with very low numbers of reviews in order to reduce the risk or using businesses that have opened since the pandemic\n",
    "\n",
    "def drop_low_counts(dataframe):\n",
    "    h = []\n",
    "    for i in np.where(dataframe.review_count < 16):\n",
    "        h.append(i)\n",
    "    return opendf.drop(index = h[0], inplace = True)\n",
    "\n",
    "drop_low_counts(opendf)"
   ]
  },
  {
   "cell_type": "code",
   "execution_count": 4,
   "metadata": {},
   "outputs": [],
   "source": [
    "df = pd.concat([closeddf, opendf], axis = 0)"
   ]
  },
  {
   "cell_type": "code",
   "execution_count": 5,
   "metadata": {},
   "outputs": [],
   "source": [
    "#dropping unused columns\n",
    "\n",
    "df.drop(columns = ['Unnamed: 0','distance', 'id', 'image_url','phone'], inplace = True)\n",
    "\n",
    "#randomizing and re-indexing the rows\n",
    "\n",
    "df = df.sample(frac=1).reset_index(drop=True)"
   ]
  },
  {
   "cell_type": "markdown",
   "metadata": {},
   "source": [
    "## Cleaning price column \n",
    "#### converting dollar sign to categorical numeric variable"
   ]
  },
  {
   "cell_type": "code",
   "execution_count": 6,
   "metadata": {},
   "outputs": [
    {
     "data": {
      "text/plain": [
       "$$      858\n",
       "$$$     132\n",
       "$       127\n",
       "$$$$     18\n",
       "Name: price, dtype: int64"
      ]
     },
     "execution_count": 6,
     "metadata": {},
     "output_type": "execute_result"
    }
   ],
   "source": [
    "df['price'].value_counts()"
   ]
  },
  {
   "cell_type": "code",
   "execution_count": 7,
   "metadata": {},
   "outputs": [
    {
     "data": {
      "text/plain": [
       "alias                   0\n",
       "categories              0\n",
       "coordinates             0\n",
       "display_phone          62\n",
       "is_closed               0\n",
       "location                0\n",
       "name                    0\n",
       "price                 233\n",
       "rating                  0\n",
       "review_count            0\n",
       "transactions            0\n",
       "url                     0\n",
       "permanently closed      0\n",
       "outdoor_seating         0\n",
       "dtype: int64"
      ]
     },
     "execution_count": 7,
     "metadata": {},
     "output_type": "execute_result"
    }
   ],
   "source": [
    "df.isna().sum()"
   ]
  },
  {
   "cell_type": "code",
   "execution_count": 8,
   "metadata": {},
   "outputs": [
    {
     "data": {
      "text/html": [
       "<div>\n",
       "<style scoped>\n",
       "    .dataframe tbody tr th:only-of-type {\n",
       "        vertical-align: middle;\n",
       "    }\n",
       "\n",
       "    .dataframe tbody tr th {\n",
       "        vertical-align: top;\n",
       "    }\n",
       "\n",
       "    .dataframe thead th {\n",
       "        text-align: right;\n",
       "    }\n",
       "</style>\n",
       "<table border=\"1\" class=\"dataframe\">\n",
       "  <thead>\n",
       "    <tr style=\"text-align: right;\">\n",
       "      <th></th>\n",
       "      <th>alias</th>\n",
       "      <th>categories</th>\n",
       "      <th>coordinates</th>\n",
       "      <th>display_phone</th>\n",
       "      <th>is_closed</th>\n",
       "      <th>location</th>\n",
       "      <th>name</th>\n",
       "      <th>price</th>\n",
       "      <th>rating</th>\n",
       "      <th>review_count</th>\n",
       "      <th>transactions</th>\n",
       "      <th>url</th>\n",
       "      <th>permanently closed</th>\n",
       "      <th>outdoor_seating</th>\n",
       "      <th>price_cat</th>\n",
       "    </tr>\n",
       "  </thead>\n",
       "  <tbody>\n",
       "    <tr>\n",
       "      <th>0</th>\n",
       "      <td>il-brigante-new-york</td>\n",
       "      <td>[{'alias': 'italian', 'title': 'Italian'}]</td>\n",
       "      <td>{'latitude': 40.707492, 'longitude': -74.002571}</td>\n",
       "      <td>(212) 285-0222</td>\n",
       "      <td>False</td>\n",
       "      <td>{'address1': '214 Front St', 'address2': '', '...</td>\n",
       "      <td>IL Brigante</td>\n",
       "      <td>$$</td>\n",
       "      <td>4.0</td>\n",
       "      <td>409</td>\n",
       "      <td>['restaurant_reservation', 'delivery', 'pickup']</td>\n",
       "      <td>https://www.yelp.com/biz/il-brigante-new-york?...</td>\n",
       "      <td>0</td>\n",
       "      <td>0</td>\n",
       "      <td>two</td>\n",
       "    </tr>\n",
       "    <tr>\n",
       "      <th>1</th>\n",
       "      <td>lido-new-york</td>\n",
       "      <td>[{'alias': 'italian', 'title': 'Italian'}, {'a...</td>\n",
       "      <td>{'latitude': 40.8049797781916, 'longitude': -7...</td>\n",
       "      <td>(646) 490-8575</td>\n",
       "      <td>False</td>\n",
       "      <td>{'address1': '2168 Frederick Douglass Blvd', '...</td>\n",
       "      <td>Lido</td>\n",
       "      <td>$$</td>\n",
       "      <td>4.0</td>\n",
       "      <td>998</td>\n",
       "      <td>['delivery', 'pickup']</td>\n",
       "      <td>https://www.yelp.com/biz/lido-new-york?adjust_...</td>\n",
       "      <td>0</td>\n",
       "      <td>1</td>\n",
       "      <td>two</td>\n",
       "    </tr>\n",
       "    <tr>\n",
       "      <th>2</th>\n",
       "      <td>despaña-brand-foods-new-york-2</td>\n",
       "      <td>[{'alias': 'gourmet', 'title': 'Specialty Food...</td>\n",
       "      <td>{'latitude': 40.721094, 'longitude': -73.9978255}</td>\n",
       "      <td>(212) 219-5050</td>\n",
       "      <td>False</td>\n",
       "      <td>{'address1': '408 Broome St', 'address2': None...</td>\n",
       "      <td>Despaña Brand Foods</td>\n",
       "      <td>$$</td>\n",
       "      <td>4.5</td>\n",
       "      <td>570</td>\n",
       "      <td>['pickup', 'delivery']</td>\n",
       "      <td>https://www.yelp.com/biz/despa%C3%B1a-brand-fo...</td>\n",
       "      <td>0</td>\n",
       "      <td>1</td>\n",
       "      <td>two</td>\n",
       "    </tr>\n",
       "    <tr>\n",
       "      <th>3</th>\n",
       "      <td>le-reveil-coffee-new-york-3</td>\n",
       "      <td>[{'alias': 'coffee', 'title': 'Coffee &amp; Tea'},...</td>\n",
       "      <td>{'latitude': 40.76716, 'longitude': -73.95922}</td>\n",
       "      <td>(646) 692-4109</td>\n",
       "      <td>False</td>\n",
       "      <td>{'address1': '1322 2nd Ave', 'address2': None,...</td>\n",
       "      <td>Le Reveil Coffee</td>\n",
       "      <td>$</td>\n",
       "      <td>4.0</td>\n",
       "      <td>139</td>\n",
       "      <td>['pickup', 'delivery']</td>\n",
       "      <td>https://www.yelp.com/biz/le-reveil-coffee-new-...</td>\n",
       "      <td>0</td>\n",
       "      <td>1</td>\n",
       "      <td>one</td>\n",
       "    </tr>\n",
       "    <tr>\n",
       "      <th>4</th>\n",
       "      <td>pasture-burger-brooklyn-2</td>\n",
       "      <td>[{'alias': 'burgers', 'title': 'Burgers'}]</td>\n",
       "      <td>{'latitude': 40.64192, 'longitude': -73.96319}</td>\n",
       "      <td>NaN</td>\n",
       "      <td>False</td>\n",
       "      <td>{'address1': '1611 Cortelyou Rd', 'address2': ...</td>\n",
       "      <td>Pasture Burger</td>\n",
       "      <td>NaN</td>\n",
       "      <td>3.5</td>\n",
       "      <td>32</td>\n",
       "      <td>['pickup', 'delivery']</td>\n",
       "      <td>https://www.yelp.com/biz/pasture-burger-brookl...</td>\n",
       "      <td>0</td>\n",
       "      <td>0</td>\n",
       "      <td>missing</td>\n",
       "    </tr>\n",
       "  </tbody>\n",
       "</table>\n",
       "</div>"
      ],
      "text/plain": [
       "                            alias  \\\n",
       "0            il-brigante-new-york   \n",
       "1                   lido-new-york   \n",
       "2  despaña-brand-foods-new-york-2   \n",
       "3     le-reveil-coffee-new-york-3   \n",
       "4       pasture-burger-brooklyn-2   \n",
       "\n",
       "                                          categories  \\\n",
       "0         [{'alias': 'italian', 'title': 'Italian'}]   \n",
       "1  [{'alias': 'italian', 'title': 'Italian'}, {'a...   \n",
       "2  [{'alias': 'gourmet', 'title': 'Specialty Food...   \n",
       "3  [{'alias': 'coffee', 'title': 'Coffee & Tea'},...   \n",
       "4         [{'alias': 'burgers', 'title': 'Burgers'}]   \n",
       "\n",
       "                                         coordinates   display_phone  \\\n",
       "0   {'latitude': 40.707492, 'longitude': -74.002571}  (212) 285-0222   \n",
       "1  {'latitude': 40.8049797781916, 'longitude': -7...  (646) 490-8575   \n",
       "2  {'latitude': 40.721094, 'longitude': -73.9978255}  (212) 219-5050   \n",
       "3     {'latitude': 40.76716, 'longitude': -73.95922}  (646) 692-4109   \n",
       "4     {'latitude': 40.64192, 'longitude': -73.96319}             NaN   \n",
       "\n",
       "   is_closed                                           location  \\\n",
       "0      False  {'address1': '214 Front St', 'address2': '', '...   \n",
       "1      False  {'address1': '2168 Frederick Douglass Blvd', '...   \n",
       "2      False  {'address1': '408 Broome St', 'address2': None...   \n",
       "3      False  {'address1': '1322 2nd Ave', 'address2': None,...   \n",
       "4      False  {'address1': '1611 Cortelyou Rd', 'address2': ...   \n",
       "\n",
       "                  name price  rating  review_count  \\\n",
       "0          IL Brigante    $$     4.0           409   \n",
       "1                 Lido    $$     4.0           998   \n",
       "2  Despaña Brand Foods    $$     4.5           570   \n",
       "3     Le Reveil Coffee     $     4.0           139   \n",
       "4       Pasture Burger   NaN     3.5            32   \n",
       "\n",
       "                                       transactions  \\\n",
       "0  ['restaurant_reservation', 'delivery', 'pickup']   \n",
       "1                            ['delivery', 'pickup']   \n",
       "2                            ['pickup', 'delivery']   \n",
       "3                            ['pickup', 'delivery']   \n",
       "4                            ['pickup', 'delivery']   \n",
       "\n",
       "                                                 url  permanently closed  \\\n",
       "0  https://www.yelp.com/biz/il-brigante-new-york?...                   0   \n",
       "1  https://www.yelp.com/biz/lido-new-york?adjust_...                   0   \n",
       "2  https://www.yelp.com/biz/despa%C3%B1a-brand-fo...                   0   \n",
       "3  https://www.yelp.com/biz/le-reveil-coffee-new-...                   0   \n",
       "4  https://www.yelp.com/biz/pasture-burger-brookl...                   0   \n",
       "\n",
       "   outdoor_seating price_cat  \n",
       "0                0       two  \n",
       "1                1       two  \n",
       "2                1       two  \n",
       "3                1       one  \n",
       "4                0   missing  "
      ]
     },
     "execution_count": 8,
     "metadata": {},
     "output_type": "execute_result"
    }
   ],
   "source": [
    "cond = [df['price'] == '$',\n",
    "        df['price'] == '$$',\n",
    "        df['price'] == '$$$',\n",
    "        df['price'] == '$$$$'\n",
    "       ]\n",
    "choice = ['one','two','three','four']\n",
    "df['price_cat'] = np.select(cond, choice,default='missing')\n",
    "df.head()"
   ]
  },
  {
   "cell_type": "code",
   "execution_count": 9,
   "metadata": {},
   "outputs": [
    {
     "data": {
      "text/plain": [
       "two        858\n",
       "missing    233\n",
       "three      132\n",
       "one        127\n",
       "four        18\n",
       "Name: price_cat, dtype: int64"
      ]
     },
     "execution_count": 9,
     "metadata": {},
     "output_type": "execute_result"
    }
   ],
   "source": [
    "df['price_cat'].value_counts()"
   ]
  },
  {
   "cell_type": "code",
   "execution_count": 10,
   "metadata": {},
   "outputs": [],
   "source": [
    "price_dummies = pd.get_dummies(data = df['price'])"
   ]
  },
  {
   "cell_type": "markdown",
   "metadata": {},
   "source": [
    "## Breaking out transactions column"
   ]
  },
  {
   "cell_type": "code",
   "execution_count": 11,
   "metadata": {},
   "outputs": [],
   "source": [
    "df['transactions'] = df['transactions'].map(lambda x: ast.literal_eval(x))"
   ]
  },
  {
   "cell_type": "code",
   "execution_count": 12,
   "metadata": {},
   "outputs": [
    {
     "data": {
      "text/plain": [
       "['delivery', 'pickup']"
      ]
     },
     "execution_count": 12,
     "metadata": {},
     "output_type": "execute_result"
    }
   ],
   "source": [
    "df['transactions'][1]"
   ]
  },
  {
   "cell_type": "code",
   "execution_count": 13,
   "metadata": {},
   "outputs": [],
   "source": [
    "df['delivery'] = df['transactions'].apply(lambda x: 1 if 'delivery' in x else 0)\n",
    "df['restaurant_reservation'] = df['transactions'].apply(lambda x: 1 if 'restaurant_reservation' in x else 0)\n",
    "df['pickup'] = df['transactions'].apply(lambda x: 1 if 'pickup' in x else 0)"
   ]
  },
  {
   "cell_type": "code",
   "execution_count": 14,
   "metadata": {},
   "outputs": [
    {
     "data": {
      "text/html": [
       "<div>\n",
       "<style scoped>\n",
       "    .dataframe tbody tr th:only-of-type {\n",
       "        vertical-align: middle;\n",
       "    }\n",
       "\n",
       "    .dataframe tbody tr th {\n",
       "        vertical-align: top;\n",
       "    }\n",
       "\n",
       "    .dataframe thead th {\n",
       "        text-align: right;\n",
       "    }\n",
       "</style>\n",
       "<table border=\"1\" class=\"dataframe\">\n",
       "  <thead>\n",
       "    <tr style=\"text-align: right;\">\n",
       "      <th></th>\n",
       "      <th>alias</th>\n",
       "      <th>categories</th>\n",
       "      <th>coordinates</th>\n",
       "      <th>display_phone</th>\n",
       "      <th>is_closed</th>\n",
       "      <th>location</th>\n",
       "      <th>name</th>\n",
       "      <th>price</th>\n",
       "      <th>rating</th>\n",
       "      <th>review_count</th>\n",
       "      <th>transactions</th>\n",
       "      <th>url</th>\n",
       "      <th>permanently closed</th>\n",
       "      <th>outdoor_seating</th>\n",
       "      <th>price_cat</th>\n",
       "      <th>delivery</th>\n",
       "      <th>restaurant_reservation</th>\n",
       "      <th>pickup</th>\n",
       "    </tr>\n",
       "  </thead>\n",
       "  <tbody>\n",
       "    <tr>\n",
       "      <th>0</th>\n",
       "      <td>il-brigante-new-york</td>\n",
       "      <td>[{'alias': 'italian', 'title': 'Italian'}]</td>\n",
       "      <td>{'latitude': 40.707492, 'longitude': -74.002571}</td>\n",
       "      <td>(212) 285-0222</td>\n",
       "      <td>False</td>\n",
       "      <td>{'address1': '214 Front St', 'address2': '', '...</td>\n",
       "      <td>IL Brigante</td>\n",
       "      <td>$$</td>\n",
       "      <td>4.0</td>\n",
       "      <td>409</td>\n",
       "      <td>[restaurant_reservation, delivery, pickup]</td>\n",
       "      <td>https://www.yelp.com/biz/il-brigante-new-york?...</td>\n",
       "      <td>0</td>\n",
       "      <td>0</td>\n",
       "      <td>two</td>\n",
       "      <td>1</td>\n",
       "      <td>1</td>\n",
       "      <td>1</td>\n",
       "    </tr>\n",
       "    <tr>\n",
       "      <th>1</th>\n",
       "      <td>lido-new-york</td>\n",
       "      <td>[{'alias': 'italian', 'title': 'Italian'}, {'a...</td>\n",
       "      <td>{'latitude': 40.8049797781916, 'longitude': -7...</td>\n",
       "      <td>(646) 490-8575</td>\n",
       "      <td>False</td>\n",
       "      <td>{'address1': '2168 Frederick Douglass Blvd', '...</td>\n",
       "      <td>Lido</td>\n",
       "      <td>$$</td>\n",
       "      <td>4.0</td>\n",
       "      <td>998</td>\n",
       "      <td>[delivery, pickup]</td>\n",
       "      <td>https://www.yelp.com/biz/lido-new-york?adjust_...</td>\n",
       "      <td>0</td>\n",
       "      <td>1</td>\n",
       "      <td>two</td>\n",
       "      <td>1</td>\n",
       "      <td>0</td>\n",
       "      <td>1</td>\n",
       "    </tr>\n",
       "    <tr>\n",
       "      <th>2</th>\n",
       "      <td>despaña-brand-foods-new-york-2</td>\n",
       "      <td>[{'alias': 'gourmet', 'title': 'Specialty Food...</td>\n",
       "      <td>{'latitude': 40.721094, 'longitude': -73.9978255}</td>\n",
       "      <td>(212) 219-5050</td>\n",
       "      <td>False</td>\n",
       "      <td>{'address1': '408 Broome St', 'address2': None...</td>\n",
       "      <td>Despaña Brand Foods</td>\n",
       "      <td>$$</td>\n",
       "      <td>4.5</td>\n",
       "      <td>570</td>\n",
       "      <td>[pickup, delivery]</td>\n",
       "      <td>https://www.yelp.com/biz/despa%C3%B1a-brand-fo...</td>\n",
       "      <td>0</td>\n",
       "      <td>1</td>\n",
       "      <td>two</td>\n",
       "      <td>1</td>\n",
       "      <td>0</td>\n",
       "      <td>1</td>\n",
       "    </tr>\n",
       "    <tr>\n",
       "      <th>3</th>\n",
       "      <td>le-reveil-coffee-new-york-3</td>\n",
       "      <td>[{'alias': 'coffee', 'title': 'Coffee &amp; Tea'},...</td>\n",
       "      <td>{'latitude': 40.76716, 'longitude': -73.95922}</td>\n",
       "      <td>(646) 692-4109</td>\n",
       "      <td>False</td>\n",
       "      <td>{'address1': '1322 2nd Ave', 'address2': None,...</td>\n",
       "      <td>Le Reveil Coffee</td>\n",
       "      <td>$</td>\n",
       "      <td>4.0</td>\n",
       "      <td>139</td>\n",
       "      <td>[pickup, delivery]</td>\n",
       "      <td>https://www.yelp.com/biz/le-reveil-coffee-new-...</td>\n",
       "      <td>0</td>\n",
       "      <td>1</td>\n",
       "      <td>one</td>\n",
       "      <td>1</td>\n",
       "      <td>0</td>\n",
       "      <td>1</td>\n",
       "    </tr>\n",
       "    <tr>\n",
       "      <th>4</th>\n",
       "      <td>pasture-burger-brooklyn-2</td>\n",
       "      <td>[{'alias': 'burgers', 'title': 'Burgers'}]</td>\n",
       "      <td>{'latitude': 40.64192, 'longitude': -73.96319}</td>\n",
       "      <td>NaN</td>\n",
       "      <td>False</td>\n",
       "      <td>{'address1': '1611 Cortelyou Rd', 'address2': ...</td>\n",
       "      <td>Pasture Burger</td>\n",
       "      <td>NaN</td>\n",
       "      <td>3.5</td>\n",
       "      <td>32</td>\n",
       "      <td>[pickup, delivery]</td>\n",
       "      <td>https://www.yelp.com/biz/pasture-burger-brookl...</td>\n",
       "      <td>0</td>\n",
       "      <td>0</td>\n",
       "      <td>missing</td>\n",
       "      <td>1</td>\n",
       "      <td>0</td>\n",
       "      <td>1</td>\n",
       "    </tr>\n",
       "  </tbody>\n",
       "</table>\n",
       "</div>"
      ],
      "text/plain": [
       "                            alias  \\\n",
       "0            il-brigante-new-york   \n",
       "1                   lido-new-york   \n",
       "2  despaña-brand-foods-new-york-2   \n",
       "3     le-reveil-coffee-new-york-3   \n",
       "4       pasture-burger-brooklyn-2   \n",
       "\n",
       "                                          categories  \\\n",
       "0         [{'alias': 'italian', 'title': 'Italian'}]   \n",
       "1  [{'alias': 'italian', 'title': 'Italian'}, {'a...   \n",
       "2  [{'alias': 'gourmet', 'title': 'Specialty Food...   \n",
       "3  [{'alias': 'coffee', 'title': 'Coffee & Tea'},...   \n",
       "4         [{'alias': 'burgers', 'title': 'Burgers'}]   \n",
       "\n",
       "                                         coordinates   display_phone  \\\n",
       "0   {'latitude': 40.707492, 'longitude': -74.002571}  (212) 285-0222   \n",
       "1  {'latitude': 40.8049797781916, 'longitude': -7...  (646) 490-8575   \n",
       "2  {'latitude': 40.721094, 'longitude': -73.9978255}  (212) 219-5050   \n",
       "3     {'latitude': 40.76716, 'longitude': -73.95922}  (646) 692-4109   \n",
       "4     {'latitude': 40.64192, 'longitude': -73.96319}             NaN   \n",
       "\n",
       "   is_closed                                           location  \\\n",
       "0      False  {'address1': '214 Front St', 'address2': '', '...   \n",
       "1      False  {'address1': '2168 Frederick Douglass Blvd', '...   \n",
       "2      False  {'address1': '408 Broome St', 'address2': None...   \n",
       "3      False  {'address1': '1322 2nd Ave', 'address2': None,...   \n",
       "4      False  {'address1': '1611 Cortelyou Rd', 'address2': ...   \n",
       "\n",
       "                  name price  rating  review_count  \\\n",
       "0          IL Brigante    $$     4.0           409   \n",
       "1                 Lido    $$     4.0           998   \n",
       "2  Despaña Brand Foods    $$     4.5           570   \n",
       "3     Le Reveil Coffee     $     4.0           139   \n",
       "4       Pasture Burger   NaN     3.5            32   \n",
       "\n",
       "                                 transactions  \\\n",
       "0  [restaurant_reservation, delivery, pickup]   \n",
       "1                          [delivery, pickup]   \n",
       "2                          [pickup, delivery]   \n",
       "3                          [pickup, delivery]   \n",
       "4                          [pickup, delivery]   \n",
       "\n",
       "                                                 url  permanently closed  \\\n",
       "0  https://www.yelp.com/biz/il-brigante-new-york?...                   0   \n",
       "1  https://www.yelp.com/biz/lido-new-york?adjust_...                   0   \n",
       "2  https://www.yelp.com/biz/despa%C3%B1a-brand-fo...                   0   \n",
       "3  https://www.yelp.com/biz/le-reveil-coffee-new-...                   0   \n",
       "4  https://www.yelp.com/biz/pasture-burger-brookl...                   0   \n",
       "\n",
       "   outdoor_seating price_cat  delivery  restaurant_reservation  pickup  \n",
       "0                0       two         1                       1       1  \n",
       "1                1       two         1                       0       1  \n",
       "2                1       two         1                       0       1  \n",
       "3                1       one         1                       0       1  \n",
       "4                0   missing         1                       0       1  "
      ]
     },
     "execution_count": 14,
     "metadata": {},
     "output_type": "execute_result"
    }
   ],
   "source": [
    "df.head(5)"
   ]
  },
  {
   "cell_type": "code",
   "execution_count": 15,
   "metadata": {},
   "outputs": [
    {
     "name": "stdout",
     "output_type": "stream",
     "text": [
      "1    982\n",
      "0    386\n",
      "Name: delivery, dtype: int64\n",
      "0    1262\n",
      "1     106\n",
      "Name: restaurant_reservation, dtype: int64\n",
      "1    976\n",
      "0    392\n",
      "Name: pickup, dtype: int64\n"
     ]
    }
   ],
   "source": [
    "print(df['delivery'].value_counts())\n",
    "print(df['restaurant_reservation'].value_counts())\n",
    "print(df['pickup'].value_counts())"
   ]
  },
  {
   "cell_type": "markdown",
   "metadata": {},
   "source": [
    "## Pull out zip from the location column"
   ]
  },
  {
   "cell_type": "code",
   "execution_count": 16,
   "metadata": {},
   "outputs": [],
   "source": [
    "df['location'] = df['location'].map(lambda x: ast.literal_eval(x))"
   ]
  },
  {
   "cell_type": "code",
   "execution_count": 17,
   "metadata": {},
   "outputs": [
    {
     "data": {
      "text/plain": [
       "0       {'address1': '214 Front St', 'address2': '', '...\n",
       "1       {'address1': '2168 Frederick Douglass Blvd', '...\n",
       "2       {'address1': '408 Broome St', 'address2': None...\n",
       "3       {'address1': '1322 2nd Ave', 'address2': None,...\n",
       "4       {'address1': '1611 Cortelyou Rd', 'address2': ...\n",
       "                              ...                        \n",
       "1363    {'address1': '8604 Bay Pkwy', 'address2': None...\n",
       "1364    {'address1': '211 W Broadway', 'address2': '',...\n",
       "1365    {'address1': '2777 Flatbush Ave', 'address2': ...\n",
       "1366    {'address1': '9 E 18th St', 'address2': '', 'a...\n",
       "1367    {'address1': '20 Hudson Yards', 'address2': 'F...\n",
       "Name: location, Length: 1368, dtype: object"
      ]
     },
     "execution_count": 17,
     "metadata": {},
     "output_type": "execute_result"
    }
   ],
   "source": [
    "df['location']"
   ]
  },
  {
   "cell_type": "code",
   "execution_count": 18,
   "metadata": {},
   "outputs": [
    {
     "data": {
      "text/plain": [
       "{'address1': '214 Front St',\n",
       " 'address2': '',\n",
       " 'address3': '',\n",
       " 'city': 'New York',\n",
       " 'zip_code': '10038',\n",
       " 'country': 'US',\n",
       " 'state': 'NY',\n",
       " 'display_address': ['214 Front St', 'New York, NY 10038']}"
      ]
     },
     "execution_count": 18,
     "metadata": {},
     "output_type": "execute_result"
    }
   ],
   "source": [
    "df['location'][0]"
   ]
  },
  {
   "cell_type": "code",
   "execution_count": 19,
   "metadata": {},
   "outputs": [
    {
     "data": {
      "text/plain": [
       "'10038'"
      ]
     },
     "execution_count": 19,
     "metadata": {},
     "output_type": "execute_result"
    }
   ],
   "source": [
    "df['location'][0]['zip_code']"
   ]
  },
  {
   "cell_type": "code",
   "execution_count": 20,
   "metadata": {},
   "outputs": [],
   "source": [
    "df['zip_code'] = df['location'].apply(lambda x: x['zip_code'])"
   ]
  },
  {
   "cell_type": "markdown",
   "metadata": {},
   "source": [
    "## Pulling out lat and long"
   ]
  },
  {
   "cell_type": "code",
   "execution_count": 21,
   "metadata": {},
   "outputs": [],
   "source": [
    "df['coordinates'] = df['coordinates'].map(lambda x: ast.literal_eval(x))"
   ]
  },
  {
   "cell_type": "code",
   "execution_count": 22,
   "metadata": {},
   "outputs": [
    {
     "data": {
      "text/plain": [
       "0        {'latitude': 40.707492, 'longitude': -74.002571}\n",
       "1       {'latitude': 40.8049797781916, 'longitude': -7...\n",
       "2       {'latitude': 40.721094, 'longitude': -73.9978255}\n",
       "3          {'latitude': 40.76716, 'longitude': -73.95922}\n",
       "4          {'latitude': 40.64192, 'longitude': -73.96319}\n",
       "                              ...                        \n",
       "1363        {'latitude': 40.6019, 'longitude': -73.99417}\n",
       "1364    {'latitude': 40.7188969, 'longitude': -74.0062...\n",
       "1365    {'latitude': 40.6035857241758, 'longitude': -7...\n",
       "1366        {'latitude': 40.7382, 'longitude': -73.99083}\n",
       "1367    {'latitude': 40.7491302490234, 'longitude': -7...\n",
       "Name: coordinates, Length: 1368, dtype: object"
      ]
     },
     "execution_count": 22,
     "metadata": {},
     "output_type": "execute_result"
    }
   ],
   "source": [
    "df['coordinates']"
   ]
  },
  {
   "cell_type": "code",
   "execution_count": 23,
   "metadata": {},
   "outputs": [],
   "source": [
    "df['latitude'] = df['coordinates'].map(lambda x: x['latitude'])\n",
    "df['longitude'] = df['coordinates'].map(lambda x: x['longitude'])"
   ]
  },
  {
   "cell_type": "markdown",
   "metadata": {},
   "source": [
    "## Reformatting and binning restaurant categories"
   ]
  },
  {
   "cell_type": "code",
   "execution_count": 24,
   "metadata": {},
   "outputs": [],
   "source": [
    "def reformat_categories(column):\n",
    "    y = []\n",
    "    for i in column:\n",
    "        try:\n",
    "            y.append(i.strip('][').split(', ')[3][10:-2])\n",
    "        except IndexError:\n",
    "            y.append(i.strip('][').split(', ')[1][10:-2])\n",
    "    return y\n",
    "\n",
    "df['categories'] = reformat_categories(df.categories)"
   ]
  },
  {
   "cell_type": "code",
   "execution_count": 25,
   "metadata": {},
   "outputs": [],
   "source": [
    "#replacing one oddly formatted entry\n",
    "\n",
    "df['categories'] = df.categories.replace(\"'cafe\", 'Cafes')\n",
    "\n",
    "#dropping a few non-restaurants that made it into our dataset\n",
    "\n",
    "df = df[df['categories'] != 'Souvenir Shops']\n",
    "df = df[df['categories'] != 'Candy Stores']\n",
    "df = df[df['categories'] != 'Print Media']"
   ]
  },
  {
   "cell_type": "code",
   "execution_count": 26,
   "metadata": {},
   "outputs": [],
   "source": [
    "#creating a mini DataFrame of categories the permanently closed dummy\n",
    "\n",
    "closedcat = df.groupby(['categories'])['permanently closed'].value_counts().unstack().fillna(0)"
   ]
  },
  {
   "cell_type": "code",
   "execution_count": 27,
   "metadata": {},
   "outputs": [],
   "source": [
    "#adding a percentage column to closedcat\n",
    "\n",
    "closedcat['percentclosed'] = (round(closedcat[1]/(closedcat[0]+closedcat[1]), 2)*100).astype(int)"
   ]
  },
  {
   "cell_type": "code",
   "execution_count": 28,
   "metadata": {},
   "outputs": [
    {
     "data": {
      "image/png": "[encoded data removed]",
      "text/plain": [
       "<Figure size 1080x648 with 1 Axes>"
      ]
     },
     "metadata": {
      "needs_background": "light"
     },
     "output_type": "display_data"
    }
   ],
   "source": [
    "#this is a mess and we need to bin some categories\n",
    "\n",
    "fig, ax = plt.subplots(figsize = (15, 9))\n",
    "plt.barh(y = closedcat.index, width = closedcat.percentclosed);"
   ]
  },
  {
   "cell_type": "code",
   "execution_count": 29,
   "metadata": {},
   "outputs": [
    {
     "data": {
      "text/plain": [
       "Breakfast & Brunch    94\n",
       "American (New)        77\n",
       "Italian               66\n",
       "Bars                  57\n",
       "Cocktail Bars         56\n",
       "                      ..\n",
       "Poke                   1\n",
       "Burmese                1\n",
       "Buffets                1\n",
       "Fish & Chips           1\n",
       "Laotian                1\n",
       "Name: categories, Length: 158, dtype: int64"
      ]
     },
     "execution_count": 29,
     "metadata": {},
     "output_type": "execute_result"
    }
   ],
   "source": [
    "df.categories.value_counts()"
   ]
  },
  {
   "cell_type": "code",
   "execution_count": 30,
   "metadata": {},
   "outputs": [],
   "source": [
    "df['categories'] = df.categories.replace(['Gay Bars', 'Dive Bars', 'Sports Bars', 'Wine Bars', 'Champagne Bars', 'Cocktail Bars', 'Beer Bar', 'Whiskey Bars', 'Karaoke', 'Lounges', 'Dance Clubs'], 'Bars')\n",
    "\n",
    "df['categories'] = df.categories.replace(['Coffee & Tea', 'Tea Rooms', 'Juice Bars & Smoothies', 'Bubble Tea', 'Furniture Stores', 'Coffee Roasteries', 'Pet Stores'], 'Cafes')\n",
    "\n",
    "df['categories'] = df.categories.replace(['Burgers', 'Sandwiches', 'Comfort Food', 'Diners', 'Southern', 'Salad', 'Pubs', 'Chicken Wings', 'Delis', 'Hot Dogs', 'Fast Food', 'Cheesesteaks', 'Barbeque', 'Soul Food', 'Soup', 'Wraps', 'Buffets', 'Smokehouse', 'American (Traditional)', 'Chicken Shop'], 'American (Casual)')\n",
    "\n",
    "df['categories'] = df.categories.replace(['Gastropubs'], 'American (New)')\n",
    "\n",
    "df['categories'] = df.categories.replace(['Szechuan', 'Cantonese', 'Hot Pot', 'Shanghainese', 'Dim Sum', 'Hong Kong Style Cafe'], 'Chinese')\n",
    "\n",
    "df['categories'] = df.categories.replace(['Bakeries', 'Desserts', 'Ice Cream & Frozen Yogurt', 'Cupcakes'], 'Bakeries and Desserts')\n",
    "\n",
    "df['categories'] = df.categories.replace(['Trinidadian', 'Cuban'], 'Caribbean')\n",
    "\n",
    "df['categories'] = df.categories.replace(['Sushi Bars', 'Ramen', 'Izakaya', 'Japanese Curry'], 'Japanese')\n",
    "\n",
    "df['categories'] = df.categories.replace(['Italian', 'French', 'Tapas/Small Plates', 'Pasta Shops', 'Irish', 'German', 'Sicilian', 'Sardinian', 'Modern European', 'Brasseries', 'Scottish', 'British', 'Fish & Chips', 'Basque', 'Portuguese', 'Tuscan', 'Austrian', 'Spanish', 'Tapas Bars'], 'European')\n",
    "\n",
    "df['categories'] = df.categories.replace(['Mediterranean', 'Greek', 'Middle Eastern', 'Falafel', 'Turkish', 'Kebab', 'Halal', 'Persian/Iranian', 'Lebanese'], 'Middle Eastern/Mediterranean')\n",
    "\n",
    "df['categories'] = df.categories.replace(['Tacos', 'New Mexican Cuisine', 'Tex-Mex'], 'Mexican')\n",
    "\n",
    "df['categories'] = df.categories.replace(['Empanadas', 'Puerto Rican', 'Salvadoran', 'Dominican', 'Colombian', 'Peruvian', 'Brazilian', 'Venezuelan'], 'Latin American')\n",
    "\n",
    "df['categories'] = df.categories.replace(['Laotian', 'Taiwanese', 'Malaysian', 'Thai', 'Singaporean', 'Burmese', 'Vietnamese', 'Pan Asian', 'Indonesian', 'Filipino', 'Asian Fusion'], 'South Asian') \n",
    "\n",
    "df['categories'] = df.categories.replace(['Ethiopian', 'Senegalese', 'Somali', 'Moroccan'], 'African') \n",
    "\n",
    "df['categories'] = df.categories.replace(['Creperies', 'Waffles', 'Bagels', 'Pancakes', 'Donuts'], 'Breakfast & Brunch')\n",
    "\n",
    "df['categories'] = df.categories.replace(['Vegetarian', 'Vegan', 'Kosher', 'Gluten-Free'], 'Specialty Food')\n",
    "\n",
    "df['categories'] = df.categories.replace(['Russian', 'Polish', 'Georgian', 'Ukrainian', 'Himalayan/Nepalese'], 'Eastern Europe/Central Asia')\n",
    "\n",
    "df['categories'] = df.categories.replace(['Public Markets', 'Performing Arts', 'Food Trucks', 'Food Court', 'Festivals', 'Venues & Event Spaces', 'Music Venues', 'Caterers', 'Food Stands', 'Jazz & Blues', 'Food Delivery Services'], 'Mobile, Events and Venues')\n",
    "\n",
    "df['categories'] = df.categories.replace(['Indian', 'Hawaiian', 'Australian', 'Cajun/Creole', 'International Grocery', 'Grocery', 'Fondue', 'Poke'], 'Misc')"
   ]
  },
  {
   "cell_type": "code",
   "execution_count": 31,
   "metadata": {},
   "outputs": [],
   "source": [
    "#remaking the closedcat dataframe now that everything is binned\n",
    "\n",
    "closedcat = df.groupby(['categories'])['permanently closed'].value_counts().unstack().fillna(0)\n",
    "\n",
    "closedcat['percentclosed'] = (round(closedcat[1]/(closedcat[0]+closedcat[1]), 2)*100).astype(int)"
   ]
  },
  {
   "cell_type": "code",
   "execution_count": 32,
   "metadata": {},
   "outputs": [
    {
     "data": {
      "image/png": "[encoded data removed]",
      "text/plain": [
       "<Figure size 1080x648 with 1 Axes>"
      ]
     },
     "metadata": {
      "needs_background": "light"
     },
     "output_type": "display_data"
    }
   ],
   "source": [
    "#much better now, and RIP to all the pizza and dessert restaurants we couldn't bring with us\n",
    "\n",
    "fig, ax = plt.subplots(figsize = (15, 9))\n",
    "plt.barh(y = closedcat.index, width = closedcat.percentclosed);"
   ]
  },
  {
   "cell_type": "markdown",
   "metadata": {},
   "source": [
    "## Importing the DOH restaurant data to find the number of restaurants in each zip code"
   ]
  },
  {
   "cell_type": "code",
   "execution_count": 34,
   "metadata": {},
   "outputs": [],
   "source": [
    "restsdf = pd.read_csv('data/Restaurants__rolled_up_.csv')"
   ]
  },
  {
   "cell_type": "code",
   "execution_count": 35,
   "metadata": {},
   "outputs": [
    {
     "data": {
      "text/html": [
       "<div>\n",
       "<style scoped>\n",
       "    .dataframe tbody tr th:only-of-type {\n",
       "        vertical-align: middle;\n",
       "    }\n",
       "\n",
       "    .dataframe tbody tr th {\n",
       "        vertical-align: top;\n",
       "    }\n",
       "\n",
       "    .dataframe thead th {\n",
       "        text-align: right;\n",
       "    }\n",
       "</style>\n",
       "<table border=\"1\" class=\"dataframe\">\n",
       "  <thead>\n",
       "    <tr style=\"text-align: right;\">\n",
       "      <th></th>\n",
       "      <th>CAMIS</th>\n",
       "      <th>DBA</th>\n",
       "      <th>BORO</th>\n",
       "      <th>BUILDING</th>\n",
       "      <th>STREET</th>\n",
       "      <th>ZIPCODE</th>\n",
       "    </tr>\n",
       "  </thead>\n",
       "  <tbody>\n",
       "    <tr>\n",
       "      <th>0</th>\n",
       "      <td>50060363</td>\n",
       "      <td>PIZZA CIAO PASTA</td>\n",
       "      <td>Brooklyn</td>\n",
       "      <td>7116</td>\n",
       "      <td>BAY PARKWAY</td>\n",
       "      <td>11204.0</td>\n",
       "    </tr>\n",
       "    <tr>\n",
       "      <th>1</th>\n",
       "      <td>41450361</td>\n",
       "      <td>FREDA'S</td>\n",
       "      <td>Manhattan</td>\n",
       "      <td>993</td>\n",
       "      <td>COLUMBUS AVENUE</td>\n",
       "      <td>10025.0</td>\n",
       "    </tr>\n",
       "    <tr>\n",
       "      <th>2</th>\n",
       "      <td>40871234</td>\n",
       "      <td>S &amp; T BAGELS &amp; DELI</td>\n",
       "      <td>Staten Island</td>\n",
       "      <td>463</td>\n",
       "      <td>FOREST AVENUE</td>\n",
       "      <td>10301.0</td>\n",
       "    </tr>\n",
       "    <tr>\n",
       "      <th>3</th>\n",
       "      <td>41653409</td>\n",
       "      <td>CROWN FRIED CHICKEN</td>\n",
       "      <td>Brooklyn</td>\n",
       "      <td>431</td>\n",
       "      <td>RALPH AVENUE</td>\n",
       "      <td>11233.0</td>\n",
       "    </tr>\n",
       "    <tr>\n",
       "      <th>4</th>\n",
       "      <td>50081076</td>\n",
       "      <td>DIA</td>\n",
       "      <td>Manhattan</td>\n",
       "      <td>58</td>\n",
       "      <td>2 AVENUE</td>\n",
       "      <td>10003.0</td>\n",
       "    </tr>\n",
       "  </tbody>\n",
       "</table>\n",
       "</div>"
      ],
      "text/plain": [
       "      CAMIS                  DBA           BORO BUILDING           STREET  \\\n",
       "0  50060363     PIZZA CIAO PASTA       Brooklyn     7116      BAY PARKWAY   \n",
       "1  41450361              FREDA'S      Manhattan      993  COLUMBUS AVENUE   \n",
       "2  40871234  S & T BAGELS & DELI  Staten Island      463    FOREST AVENUE   \n",
       "3  41653409  CROWN FRIED CHICKEN       Brooklyn      431     RALPH AVENUE   \n",
       "4  50081076                  DIA      Manhattan       58         2 AVENUE   \n",
       "\n",
       "   ZIPCODE  \n",
       "0  11204.0  \n",
       "1  10025.0  \n",
       "2  10301.0  \n",
       "3  11233.0  \n",
       "4  10003.0  "
      ]
     },
     "execution_count": 35,
     "metadata": {},
     "output_type": "execute_result"
    }
   ],
   "source": [
    "restsdf.head()"
   ]
  },
  {
   "cell_type": "code",
   "execution_count": 36,
   "metadata": {},
   "outputs": [],
   "source": [
    "#creating a DataFrame with counts of each zipcode to infer number of restaurants in each\n",
    "\n",
    "zipdf = pd.DataFrame(restsdf.ZIPCODE.value_counts()).reset_index()\n",
    "zipdf.columns = ['zip_code', 'total_restaurants_in_zip']"
   ]
  },
  {
   "cell_type": "code",
   "execution_count": 37,
   "metadata": {},
   "outputs": [],
   "source": [
    "#converting to drop decimals and match formatting of the main dataframe\n",
    "\n",
    "zipdf['zip_code'] = zipdf.zip_code.astype(int)\n",
    "zipdf['zip_code'] = zipdf.zip_code.astype(str)"
   ]
  },
  {
   "cell_type": "code",
   "execution_count": 38,
   "metadata": {},
   "outputs": [],
   "source": [
    "df = df.merge(zipdf, how = 'left', on = 'zip_code')"
   ]
  },
  {
   "cell_type": "markdown",
   "metadata": {},
   "source": [
    "## Importing population density by zipcode"
   ]
  },
  {
   "cell_type": "code",
   "execution_count": 95,
   "metadata": {},
   "outputs": [],
   "source": [
    "popdens = pd.read_excel('data/pop density by zip ny.xlsx')"
   ]
  },
  {
   "cell_type": "code",
   "execution_count": 96,
   "metadata": {},
   "outputs": [],
   "source": [
    "#creating a column of zipcodes matching the formatting of the main dataframe\n",
    "\n",
    "popdens['zip_code'] = popdens['Zip / Population'].apply(lambda x: x[:5])"
   ]
  },
  {
   "cell_type": "code",
   "execution_count": 97,
   "metadata": {},
   "outputs": [],
   "source": [
    "#reformatting the population density number\n",
    "\n",
    "popdens['Population Density '] = popdens['Population Density '].apply(lambda x: x.replace('/sq mi', ''))\n",
    "popdens['Population Density '] = popdens['Population Density '].apply(lambda x: x.replace(',', ''))"
   ]
  },
  {
   "cell_type": "code",
   "execution_count": 98,
   "metadata": {},
   "outputs": [],
   "source": [
    "#creating a dataframe with just the features we want\n",
    "\n",
    "popdens = popdens[['zip_code', 'Population Density ']]"
   ]
  },
  {
   "cell_type": "markdown",
   "metadata": {},
   "source": [
    "## From EDA discovered population densities for 5 zipcodes:\n",
    "#### zip codes - 11249, 10080, 10281, 10271, 07020\n",
    "* 11249 - waterfront part of Williamsburg - 97978 pop/14.79 sqmi = 6,624.6\n",
    "* 10080, 10281, 10271 - in FIDI appear to be zips of building no population density\n",
    "* 07020 - Edgewater NJ. Outside target area"
   ]
  },
  {
   "cell_type": "code",
   "execution_count": 106,
   "metadata": {},
   "outputs": [],
   "source": [
    "missing_popdens = {'zip_code': [11249, 10080, 10281, 10271], 'Population Density ': [6624.6,0,0,0]}\n",
    "missing_popdens_df = pd.DataFrame(data=missing_popdens)"
   ]
  },
  {
   "cell_type": "code",
   "execution_count": 109,
   "metadata": {},
   "outputs": [],
   "source": [
    "popdens = pd.concat([popdens, missing_popdens_df])"
   ]
  },
  {
   "cell_type": "code",
   "execution_count": 111,
   "metadata": {},
   "outputs": [],
   "source": [
    "df = df.merge(popdens, how = 'left', on = 'zip_code')"
   ]
  },
  {
   "cell_type": "markdown",
   "metadata": {},
   "source": [
    "## Using Haversine to create a Distance to Subway feature"
   ]
  },
  {
   "cell_type": "code",
   "execution_count": 48,
   "metadata": {},
   "outputs": [],
   "source": [
    "subwaydf = pd.read_csv('data/DOITT_SUBWAY_STATION_01_13SEPT2010.csv')"
   ]
  },
  {
   "cell_type": "code",
   "execution_count": 49,
   "metadata": {},
   "outputs": [],
   "source": [
    "subwaydf['longitude'] = subwaydf.the_geom.apply(lambda x: x.split()[1][1:])\n",
    "subwaydf['latitude'] = subwaydf.the_geom.apply(lambda x: x.split()[2][:-1])"
   ]
  },
  {
   "cell_type": "code",
   "execution_count": 50,
   "metadata": {},
   "outputs": [],
   "source": [
    "df.longitude = df.longitude.apply(lambda x: float(x))\n",
    "df.latitude = df.latitude.apply(lambda x: float(x))\n",
    "subwaydf.longitude = subwaydf.longitude.apply(lambda x: float(x))\n",
    "subwaydf.latitude = subwaydf.latitude.apply(lambda x: float(x))"
   ]
  },
  {
   "cell_type": "code",
   "execution_count": 51,
   "metadata": {},
   "outputs": [],
   "source": [
    "subwaycoords = list(zip(subwaydf.longitude, subwaydf.latitude))"
   ]
  },
  {
   "cell_type": "code",
   "execution_count": 52,
   "metadata": {},
   "outputs": [],
   "source": [
    "def find_nearest(restaurant, lon, lat, list_of_coordinates): \n",
    "    p = {}\n",
    "    for i in list_of_coordinates:\n",
    "        p.update({i: haversine((lon, lat), i)})\n",
    "    for j in p:\n",
    "        if p[j] == min(p.values()):\n",
    "            return {restaurant : min(p.values())}\n",
    "\n",
    "def nearest_columns(restaurants, longs, lats, coordinates):\n",
    "    q = {}\n",
    "    for k in range(0, len(longs)):\n",
    "        q.update(find_nearest(restaurants[k], longs[k], lats[k], coordinates))\n",
    "    return q"
   ]
  },
  {
   "cell_type": "code",
   "execution_count": 53,
   "metadata": {},
   "outputs": [],
   "source": [
    "q = nearest_columns(df.alias, df.longitude, df.latitude, subwaycoords)"
   ]
  },
  {
   "cell_type": "code",
   "execution_count": 54,
   "metadata": {},
   "outputs": [],
   "source": [
    "df['distance_to_subway'] = df.alias.apply(lambda x: q.get(x))"
   ]
  },
  {
   "cell_type": "markdown",
   "metadata": {},
   "source": [
    "## Saving the collected features as a new dataframe for testing and modeling"
   ]
  },
  {
   "cell_type": "code",
   "execution_count": null,
   "metadata": {},
   "outputs": [],
   "source": [
    "df.to_csv('./data/mergeddata.csv')"
   ]
  }
 ],
 "metadata": {
  "kernelspec": {
   "display_name": "Python 3",
   "language": "python",
   "name": "python3"
  },
  "language_info": {
   "codemirror_mode": {
    "name": "ipython",
    "version": 3
   },
   "file_extension": ".py",
   "mimetype": "text/x-python",
   "name": "python",
   "nbconvert_exporter": "python",
   "pygments_lexer": "ipython3",
   "version": "3.6.9"
  }
 },
 "nbformat": 4,
 "nbformat_minor": 4
}
