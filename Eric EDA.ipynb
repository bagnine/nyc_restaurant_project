{
 "cells": [
  {
   "source": [
    "## Importing Data and Libraries"
   ],
   "cell_type": "markdown",
   "metadata": {}
  },
  {
   "cell_type": "code",
   "execution_count": null,
   "metadata": {},
   "outputs": [],
   "source": [
    "import pandas as pd\n",
    "import numpy as np\n",
    "import matplotlib.pyplot as plt \n",
    "import ast"
   ]
  },
  {
   "cell_type": "code",
   "execution_count": null,
   "metadata": {},
   "outputs": [],
   "source": [
    "closeddf = pd.read_csv('closed.csv')\n",
    "opendf = pd.read_csv('openrest.csv')"
   ]
  },
  {
   "source": [
    "## Dropping less relevant rows and columns and combining the data"
   ],
   "cell_type": "markdown",
   "metadata": {}
  },
  {
   "cell_type": "code",
   "execution_count": null,
   "metadata": {},
   "outputs": [],
   "source": [
    "#dropping columns from the open restaurants data with very low numbers of reviews in order to reduce the risk or using businesses that have opened since the pandemic\n",
    "\n",
    "def drop_low_counts(dataframe):\n",
    "    h = []\n",
    "    for i in np.where(dataframe.review_count < 16):\n",
    "        h.append(i)\n",
    "    return opendf.drop(index = h[0], inplace = True)\n",
    "\n",
    "drop_low_counts(opendf)"
   ]
  },
  {
   "cell_type": "code",
   "execution_count": null,
   "metadata": {},
   "outputs": [],
   "source": [
    "df = pd.concat([closeddf, opendf], axis = 0)"
   ]
  },
  {
   "cell_type": "code",
   "execution_count": null,
   "metadata": {},
   "outputs": [],
   "source": [
    "#dropping unused columns\n",
    "\n",
    "df.drop(columns = ['Unnamed: 0','distance', 'id', 'image_url','phone'], inplace = True)\n",
    "\n",
    "#randomizing and re-indexing the rows\n",
    "\n",
    "df = df.sample(frac=1).reset_index(drop=True)"
   ]
  },
  {
   "cell_type": "markdown",
   "metadata": {},
   "source": [
    "## Cleaning price column \n",
    "#### converting dollar sign to categorical numeric variable"
   ]
  },
  {
   "cell_type": "code",
   "execution_count": null,
   "metadata": {},
   "outputs": [],
   "source": [
    "df['price'].value_counts()"
   ]
  },
  {
   "cell_type": "code",
   "execution_count": null,
   "metadata": {},
   "outputs": [],
   "source": [
    "df.isna().sum()"
   ]
  },
  {
   "cell_type": "code",
   "execution_count": null,
   "metadata": {},
   "outputs": [],
   "source": [
    "cond = [df['price'] == '$',\n",
    "        df['price'] == '$$',\n",
    "        df['price'] == '$$$',\n",
    "        df['price'] == '$$$$'\n",
    "       ]\n",
    "choice = ['one','two','three','four']\n",
    "df['price_cat'] = np.select(cond, choice,default='missing')\n",
    "df.head()"
   ]
  },
  {
   "cell_type": "code",
   "execution_count": null,
   "metadata": {},
   "outputs": [],
   "source": [
    "df['price_cat'].value_counts()"
   ]
  },
  {
   "cell_type": "code",
   "execution_count": null,
   "metadata": {},
   "outputs": [],
   "source": [
    "price_dummies = pd.get_dummies(data = df['price'])"
   ]
  },
  {
   "cell_type": "markdown",
   "metadata": {},
   "source": [
    "## Breaking out transactions column"
   ]
  },
  {
   "cell_type": "code",
   "execution_count": null,
   "metadata": {},
   "outputs": [],
   "source": [
    "df['transactions'] = df['transactions'].map(lambda x: ast.literal_eval(x))"
   ]
  },
  {
   "cell_type": "code",
   "execution_count": null,
   "metadata": {},
   "outputs": [],
   "source": [
    "df['transactions'][1]"
   ]
  },
  {
   "cell_type": "code",
   "execution_count": null,
   "metadata": {},
   "outputs": [],
   "source": [
    "df['delivery'] = df['transactions'].apply(lambda x: 1 if 'delivery' in x else 0)\n",
    "df['restaurant_reservation'] = df['transactions'].apply(lambda x: 1 if 'restaurant_reservation' in x else 0)\n",
    "df['pickup'] = df['transactions'].apply(lambda x: 1 if 'pickup' in x else 0)"
   ]
  },
  {
   "cell_type": "code",
   "execution_count": null,
   "metadata": {},
   "outputs": [],
   "source": [
    "df.head(5)"
   ]
  },
  {
   "cell_type": "code",
   "execution_count": null,
   "metadata": {},
   "outputs": [],
   "source": [
    "print(df['delivery'].value_counts())\n",
    "print(df['restaurant_reservation'].value_counts())\n",
    "print(df['pickup'].value_counts())"
   ]
  },
  {
   "cell_type": "markdown",
   "metadata": {},
   "source": [
    "## Pull out zip from the location column"
   ]
  },
  {
   "cell_type": "code",
   "execution_count": null,
   "metadata": {},
   "outputs": [],
   "source": [
    "df['location'] = df['location'].map(lambda x: ast.literal_eval(x))"
   ]
  },
  {
   "cell_type": "code",
   "execution_count": null,
   "metadata": {},
   "outputs": [],
   "source": [
    "df['location']"
   ]
  },
  {
   "cell_type": "code",
   "execution_count": null,
   "metadata": {},
   "outputs": [],
   "source": [
    "df['location'][0]"
   ]
  },
  {
   "cell_type": "code",
   "execution_count": null,
   "metadata": {},
   "outputs": [],
   "source": [
    "df['location'][0]['zip_code']"
   ]
  },
  {
   "cell_type": "code",
   "execution_count": null,
   "metadata": {},
   "outputs": [],
   "source": [
    "df['zip_code'] = df['location'].apply(lambda x: x['zip_code'])"
   ]
  },
  {
   "cell_type": "markdown",
   "metadata": {},
   "source": [
    "## Pulling out lat and long"
   ]
  },
  {
   "cell_type": "code",
   "execution_count": null,
   "metadata": {},
   "outputs": [],
   "source": [
    "df['coordinates'] = df['coordinates'].map(lambda x: ast.literal_eval(x))"
   ]
  },
  {
   "cell_type": "code",
   "execution_count": null,
   "metadata": {},
   "outputs": [],
   "source": [
    "df['coordinates']"
   ]
  },
  {
   "cell_type": "code",
   "execution_count": null,
   "metadata": {},
   "outputs": [],
   "source": [
    "df['latitude'] = df['coordinates'].map(lambda x: x['latitude'])\n",
    "df['longitude'] = df['coordinates'].map(lambda x: x['longitude'])"
   ]
  },
  {
   "source": [
    "## Reformatting and binning restaurant categories"
   ],
   "cell_type": "markdown",
   "metadata": {}
  },
  {
   "cell_type": "code",
   "execution_count": null,
   "metadata": {},
   "outputs": [],
   "source": [
    "def reformat_categories(column):\n",
    "    y = []\n",
    "    for i in column:\n",
    "        try:\n",
    "            y.append(i.strip('][').split(', ')[3][10:-2])\n",
    "        except IndexError:\n",
    "            y.append(i.strip('][').split(', ')[1][10:-2])\n",
    "    return y\n",
    "\n",
    "df['categories'] = reformat_categories(df.categories)"
   ]
  },
  {
   "cell_type": "code",
   "execution_count": null,
   "metadata": {},
   "outputs": [],
   "source": [
    "#replacing one oddly formatted entry\n",
    "\n",
    "df['categories'] = df.categories.replace(\"'cafe\", 'Cafes')\n",
    "\n",
    "#dropping a few non-restaurants that made it into our dataset\n",
    "\n",
    "df = df[df['categories'] != 'Souvenir Shops']\n",
    "df = df[df['categories'] != 'Candy Stores']\n",
    "df = df[df['categories'] != 'Print Media']"
   ]
  },
  {
   "cell_type": "code",
   "execution_count": null,
   "metadata": {},
   "outputs": [],
   "source": [
    "#creating a mini DataFrame of categories the permanently closed dummy\n",
    "\n",
    "closedcat = df.groupby(['categories'])['permanently closed'].value_counts().unstack().fillna(0)"
   ]
  },
  {
   "cell_type": "code",
   "execution_count": null,
   "metadata": {},
   "outputs": [],
   "source": [
    "#adding a percentage column to closedcat\n",
    "\n",
    "closedcat['percentclosed'] = (round(closedcat[1]/(closedcat[0]+closedcat[1]), 2)*100).astype(int)"
   ]
  },
  {
   "cell_type": "code",
   "execution_count": null,
   "metadata": {},
   "outputs": [],
   "source": [
    "#this is a mess and we need to bin some categories\n",
    "\n",
    "fig, ax = plt.subplots(figsize = (15, 9))\n",
    "plt.barh(y = closedcat.index, width = closedcat.percentclosed);"
   ]
  },
  {
   "cell_type": "code",
   "execution_count": null,
   "metadata": {},
   "outputs": [],
   "source": [
    "df.categories.value_counts()"
   ]
  },
  {
   "cell_type": "code",
   "execution_count": null,
   "metadata": {},
   "outputs": [],
   "source": [
    "df['categories'] = df.categories.replace(['Gay Bars', 'Dive Bars', 'Sports Bars', 'Wine Bars', 'Champagne Bars', 'Cocktail Bars', 'Beer Bar', 'Whiskey Bars', 'Karaoke', 'Lounges', 'Dance Clubs'], 'Bars')\n",
    "\n",
    "df['categories'] = df.categories.replace(['Coffee & Tea', 'Tea Rooms', 'Juice Bars & Smoothies', 'Bubble Tea', 'Furniture Stores', 'Coffee Roasteries', 'Pet Stores'], 'Cafes')\n",
    "\n",
    "df['categories'] = df.categories.replace(['Burgers', 'Sandwiches', 'Comfort Food', 'Diners', 'Southern', 'Salad', 'Pubs', 'Chicken Wings', 'Delis', 'Hot Dogs', 'Fast Food', 'Cheesesteaks', 'Barbeque', 'Soul Food', 'Soup', 'Wraps', 'Buffets', 'Smokehouse', 'American (Traditional)', 'Chicken Shop'], 'American (Casual)')\n",
    "\n",
    "df['categories'] = df.categories.replace(['Gastropubs'], 'American (New)')\n",
    "\n",
    "df['categories'] = df.categories.replace(['Szechuan', 'Cantonese', 'Hot Pot', 'Shanghainese', 'Dim Sum', 'Hong Kong Style Cafe'], 'Chinese')\n",
    "\n",
    "df['categories'] = df.categories.replace(['Bakeries', 'Desserts', 'Ice Cream & Frozen Yogurt', 'Cupcakes'], 'Bakeries and Desserts')\n",
    "\n",
    "df['categories'] = df.categories.replace(['Trinidadian', 'Cuban'], 'Caribbean')\n",
    "\n",
    "df['categories'] = df.categories.replace(['Sushi Bars', 'Ramen', 'Izakaya', 'Japanese Curry'], 'Japanese')\n",
    "\n",
    "df['categories'] = df.categories.replace(['Italian', 'French', 'Tapas/Small Plates', 'Pasta Shops', 'Irish', 'German', 'Sicilian', 'Sardinian', 'Modern European', 'Brasseries', 'Scottish', 'British', 'Fish & Chips', 'Basque', 'Portuguese', 'Tuscan', 'Austrian', 'Spanish', 'Tapas Bars'], 'European')\n",
    "\n",
    "df['categories'] = df.categories.replace(['Mediterranean', 'Greek', 'Middle Eastern', 'Falafel', 'Turkish', 'Kebab', 'Halal', 'Persian/Iranian', 'Lebanese'], 'Middle Eastern/Mediterranean')\n",
    "\n",
    "df['categories'] = df.categories.replace(['Tacos', 'New Mexican Cuisine', 'Tex-Mex'], 'Mexican')\n",
    "\n",
    "df['categories'] = df.categories.replace(['Empanadas', 'Puerto Rican', 'Salvadoran', 'Dominican', 'Colombian', 'Peruvian', 'Brazilian', 'Venezuelan'], 'Latin American')\n",
    "\n",
    "df['categories'] = df.categories.replace(['Laotian', 'Taiwanese', 'Malaysian', 'Thai', 'Singaporean', 'Burmese', 'Vietnamese', 'Pan Asian', 'Indonesian', 'Filipino', 'Asian Fusion'], 'South Asian') \n",
    "\n",
    "df['categories'] = df.categories.replace(['Ethiopian', 'Senegalese', 'Somali', 'Moroccan'], 'African') \n",
    "\n",
    "df['categories'] = df.categories.replace(['Creperies', 'Waffles', 'Bagels', 'Pancakes', 'Donuts'], 'Breakfast & Brunch')\n",
    "\n",
    "df['categories'] = df.categories.replace(['Vegetarian', 'Vegan', 'Kosher', 'Gluten-Free'], 'Specialty Food')\n",
    "\n",
    "df['categories'] = df.categories.replace(['Russian', 'Polish', 'Georgian', 'Ukrainian', 'Himalayan/Nepalese'], 'Eastern Europe/Central Asia')\n",
    "\n",
    "df['categories'] = df.categories.replace(['Public Markets', 'Performing Arts', 'Food Trucks', 'Food Court', 'Festivals', 'Venues & Event Spaces', 'Music Venues', 'Caterers', 'Food Stands', 'Jazz & Blues', 'Food Delivery Services'], 'Mobile, Events and Venues')\n",
    "\n",
    "df['categories'] = df.categories.replace(['Indian', 'Hawaiian', 'Australian', 'Cajun/Creole', 'International Grocery', 'Grocery', 'Fondue', 'Poke'], 'Misc')"
   ]
  },
  {
   "cell_type": "code",
   "execution_count": null,
   "metadata": {},
   "outputs": [],
   "source": [
    "#remaking the closedcat dataframe now that everything is binned\n",
    "\n",
    "closedcat = df.groupby(['categories'])['permanently closed'].value_counts().unstack().fillna(0)\n",
    "\n",
    "closedcat['percentclosed'] = (round(closedcat[1]/(closedcat[0]+closedcat[1]), 2)*100).astype(int)"
   ]
  },
  {
   "cell_type": "code",
   "execution_count": null,
   "metadata": {},
   "outputs": [],
   "source": [
    "fig, ax = plt.subplots(figsize = (15, 9))\n",
    "plt.barh(y = closedcat.index, width = closedcat.percentclosed);"
   ]
  },
  {
   "source": [
    "## Importing the DOH restaurant data to find the number of restaurants in each zip code"
   ],
   "cell_type": "markdown",
   "metadata": {}
  },
  {
   "cell_type": "code",
   "execution_count": null,
   "metadata": {},
   "outputs": [],
   "source": [
    "restsdf = pd.read_csv('Restaurants__rolled_up_.csv')"
   ]
  },
  {
   "cell_type": "code",
   "execution_count": null,
   "metadata": {},
   "outputs": [],
   "source": [
    "restsdf.head()"
   ]
  },
  {
   "cell_type": "code",
   "execution_count": null,
   "metadata": {},
   "outputs": [],
   "source": [
    "zipdf = pd.DataFrame(restsdf.ZIPCODE.value_counts()).reset_index()\n",
    "zipdf.columns = ['zip_code', 'total_restaurants_in_zip']"
   ]
  },
  {
   "cell_type": "code",
   "execution_count": null,
   "metadata": {},
   "outputs": [],
   "source": [
    "zipdf['zip_code'] = zipdf.zip_code.astype(int)\n",
    "zipdf['zip_code'] = zipdf.zip_code.astype(str)"
   ]
  },
  {
   "cell_type": "code",
   "execution_count": null,
   "metadata": {},
   "outputs": [],
   "source": [
    "df = df.merge(zipdf, how = 'left', on = 'zip_code')"
   ]
  },
  {
   "source": [
    "## Importing population density by zipcode"
   ],
   "cell_type": "markdown",
   "metadata": {}
  },
  {
   "cell_type": "code",
   "execution_count": null,
   "metadata": {},
   "outputs": [],
   "source": [
    "popdens = pd.read_excel('pop density by zip ny.xlsx')"
   ]
  },
  {
   "cell_type": "code",
   "execution_count": null,
   "metadata": {},
   "outputs": [],
   "source": [
    "popdens['zip_code'] = popdens['Zip / Population'].apply(lambda x: x[:5])"
   ]
  },
  {
   "cell_type": "code",
   "execution_count": null,
   "metadata": {},
   "outputs": [],
   "source": [
    "popdens['Population Density '] = popdens['Population Density '].apply(lambda x: x.replace('/sq mi', ''))\n",
    "popdens['Population Density '] = popdens['Population Density '].apply(lambda x: x.replace(',', ''))"
   ]
  },
  {
   "cell_type": "code",
   "execution_count": null,
   "metadata": {},
   "outputs": [],
   "source": [
    "popdens = popdens[['zip_code', 'Population Density ']]"
   ]
  },
  {
   "cell_type": "code",
   "execution_count": null,
   "metadata": {},
   "outputs": [],
   "source": [
    "df = df.merge(popdens, how = 'left', on = 'zip_code')"
   ]
  },
  {
   "cell_type": "code",
   "execution_count": null,
   "metadata": {},
   "outputs": [],
   "source": [
    "df.to_csv('mergeddate.csv')"
   ]
  },
  {
   "cell_type": "code",
   "execution_count": null,
   "metadata": {},
   "outputs": [],
   "source": []
  }
 ],
 "metadata": {
  "kernelspec": {
   "display_name": "Python 3",
   "language": "python",
   "name": "python3"
  },
  "language_info": {
   "codemirror_mode": {
    "name": "ipython",
    "version": 3
   },
   "file_extension": ".py",
   "mimetype": "text/x-python",
   "name": "python",
   "nbconvert_exporter": "python",
   "pygments_lexer": "ipython3",
   "version": "3.6.9-final"
  }
 },
 "nbformat": 4,
 "nbformat_minor": 4
}