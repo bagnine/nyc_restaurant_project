{
 "metadata": {
  "language_info": {
   "codemirror_mode": {
    "name": "ipython",
    "version": 3
   },
   "file_extension": ".py",
   "mimetype": "text/x-python",
   "name": "python",
   "nbconvert_exporter": "python",
   "pygments_lexer": "ipython3",
   "version": "3.6.9-final"
  },
  "orig_nbformat": 2,
  "kernelspec": {
   "name": "python3",
   "display_name": "Python 3"
  }
 },
 "nbformat": 4,
 "nbformat_minor": 2,
 "cells": [
  {
   "cell_type": "code",
   "execution_count": 1,
   "metadata": {},
   "outputs": [],
   "source": [
    "import pandas as pd\n",
    "import numpy as np\n",
    "import matplotlib.pyplot as plt \n",
    "import seaborn as sns\n",
    "from haversine import haversine, Unit"
   ]
  },
  {
   "cell_type": "code",
   "execution_count": 2,
   "metadata": {},
   "outputs": [],
   "source": [
    "df = pd.read_csv('mergeddate.csv')"
   ]
  },
  {
   "cell_type": "code",
   "execution_count": 3,
   "metadata": {},
   "outputs": [],
   "source": [
    "df.drop(columns = ['Unnamed: 0', 'is_closed', 'price'], inplace = True)"
   ]
  },
  {
   "cell_type": "code",
   "execution_count": 4,
   "metadata": {},
   "outputs": [
    {
     "output_type": "stream",
     "name": "stdout",
     "text": [
      "<class 'pandas.core.frame.DataFrame'>\nRangeIndex: 1365 entries, 0 to 1364\nData columns (total 21 columns):\nalias                       1365 non-null object\ncategories                  1365 non-null object\ncoordinates                 1365 non-null object\ndisplay_phone               1303 non-null object\nlocation                    1365 non-null object\nname                        1365 non-null object\nrating                      1365 non-null float64\nreview_count                1365 non-null int64\ntransactions                1365 non-null object\nurl                         1365 non-null object\npermanently closed          1365 non-null int64\noutdoor_seating             1365 non-null int64\nprice_cat                   1365 non-null object\ndelivery                    1365 non-null int64\nrestaurant_reservation      1365 non-null int64\npickup                      1365 non-null int64\nzip_code                    1365 non-null int64\nlatitude                    1365 non-null float64\nlongitude                   1365 non-null float64\ntotal_restaurants_in_zip    1360 non-null float64\nPopulation Density          1327 non-null float64\ndtypes: float64(5), int64(7), object(9)\nmemory usage: 224.1+ KB\n"
     ]
    }
   ],
   "source": [
    "df.info()"
   ]
  },
  {
   "cell_type": "code",
   "execution_count": 45,
   "metadata": {},
   "outputs": [
    {
     "output_type": "execute_result",
     "data": {
      "text/plain": [
       "rating                     -0.234103\n",
       "review_count               -0.024119\n",
       "permanently closed          1.000000\n",
       "outdoor_seating            -0.362192\n",
       "delivery                   -0.182721\n",
       "restaurant_reservation     -0.083764\n",
       "pickup                     -0.168543\n",
       "zip_code                   -0.105011\n",
       "latitude                   -0.024536\n",
       "longitude                  -0.119590\n",
       "total_restaurants_in_zip    0.217481\n",
       "Population Density          0.066126\n",
       "distance_to_subway         -0.027190\n",
       "dtype: float64"
      ]
     },
     "metadata": {},
     "execution_count": 45
    }
   ],
   "source": [
    "df.corrwith(df['permanently closed'])"
   ]
  },
  {
   "cell_type": "code",
   "execution_count": 155,
   "metadata": {},
   "outputs": [
    {
     "output_type": "execute_result",
     "data": {
      "text/plain": [
       "0         99.521197\n",
       "1        277.063087\n",
       "2        451.735714\n",
       "3        712.784252\n",
       "4        265.225581\n",
       "           ...     \n",
       "1360      94.867401\n",
       "1361      79.147361\n",
       "1362     216.941935\n",
       "1363     138.653782\n",
       "1364    1723.308955\n",
       "Length: 1365, dtype: float64"
      ]
     },
     "metadata": {},
     "execution_count": 155
    }
   ],
   "source": [
    "df['Population Density ']/df.total_restaurants_in_zip"
   ]
  },
  {
   "cell_type": "code",
   "execution_count": 6,
   "metadata": {},
   "outputs": [],
   "source": [
    "subwaydf = pd.read_csv('DOITT_SUBWAY_STATION_01_13SEPT2010.csv')"
   ]
  },
  {
   "cell_type": "code",
   "execution_count": 7,
   "metadata": {},
   "outputs": [],
   "source": [
    "subwaydf = subwaydf[['NAME', 'the_geom']]"
   ]
  },
  {
   "cell_type": "code",
   "execution_count": 8,
   "metadata": {},
   "outputs": [],
   "source": [
    "subwaydf['longitude'] = subwaydf.the_geom.apply(lambda x: x.split()[1][1:])\n",
    "subwaydf['latitude'] = subwaydf.the_geom.apply(lambda x: x.split()[2][:-1])"
   ]
  },
  {
   "cell_type": "code",
   "execution_count": 9,
   "metadata": {},
   "outputs": [],
   "source": [
    "df.longitude = df.longitude.apply(lambda x: float(x))\n",
    "df.latitude = df.latitude.apply(lambda x: float(x))\n",
    "subwaydf.longitude = subwaydf.longitude.apply(lambda x: float(x))\n",
    "subwaydf.latitude = subwaydf.latitude.apply(lambda x: float(x))"
   ]
  },
  {
   "cell_type": "code",
   "execution_count": 32,
   "metadata": {},
   "outputs": [],
   "source": [
    "def find_nearest(restaurant, lon, lat, list_of_coordinates): \n",
    "    p = {}\n",
    "    for i in list_of_coordinates:\n",
    "        p.update({i: haversine((lon, lat), i)})\n",
    "    for j in p:\n",
    "        if p[j] == min(p.values()):\n",
    "            return {restaurant : min(p.values())}"
   ]
  },
  {
   "cell_type": "code",
   "execution_count": 39,
   "metadata": {},
   "outputs": [],
   "source": [
    "def nearest_columns(restaurants, longs, lats, coordinates):\n",
    "    q = {}\n",
    "    for k in range(0, len(longs)):\n",
    "        q.update(find_nearest(restaurants[k], longs[k], lats[k], coordinates))\n",
    "    return q"
   ]
  },
  {
   "cell_type": "code",
   "execution_count": 41,
   "metadata": {},
   "outputs": [],
   "source": [
    "q = nearest_columns(df.alias, df.longitude, df.latitude, subwaycoords)"
   ]
  },
  {
   "cell_type": "code",
   "execution_count": 42,
   "metadata": {},
   "outputs": [],
   "source": [
    "df['distance_to_subway'] = df.alias.apply(lambda x: q.get(x))"
   ]
  },
  {
   "cell_type": "code",
   "execution_count": 44,
   "metadata": {},
   "outputs": [
    {
     "output_type": "stream",
     "name": "stdout",
     "text": [
      "<class 'pandas.core.frame.DataFrame'>\nRangeIndex: 1365 entries, 0 to 1364\nData columns (total 23 columns):\nalias                       1365 non-null object\ncategories                  1365 non-null object\ncoordinates                 1365 non-null object\ndisplay_phone               1303 non-null object\nlocation                    1365 non-null object\nname                        1365 non-null object\nrating                      1365 non-null float64\nreview_count                1365 non-null int64\ntransactions                1365 non-null object\nurl                         1365 non-null object\npermanently closed          1365 non-null int64\noutdoor_seating             1365 non-null int64\nprice_cat                   1365 non-null object\ndelivery                    1365 non-null int64\nrestaurant_reservation      1365 non-null int64\npickup                      1365 non-null int64\nzip_code                    1365 non-null int64\nlatitude                    1365 non-null float64\nlongitude                   1365 non-null float64\ntotal_restaurants_in_zip    1360 non-null float64\nPopulation Density          1327 non-null float64\ncoord                       1365 non-null object\ndistance_to_subway          1365 non-null float64\ndtypes: float64(6), int64(7), object(10)\nmemory usage: 245.4+ KB\n"
     ]
    }
   ],
   "source": [
    "df.info()"
   ]
  },
  {
   "cell_type": "code",
   "execution_count": 28,
   "metadata": {},
   "outputs": [],
   "source": [
    "subwaycoords = list(zip(subwaydf.longitude, subwaydf.latitude))"
   ]
  },
  {
   "cell_type": "code",
   "execution_count": 197,
   "metadata": {},
   "outputs": [],
   "source": [
    "g = nearest_columns(df.longitude[:14], df.latitude[:14], subwaycoords)"
   ]
  },
  {
   "cell_type": "code",
   "execution_count": 202,
   "metadata": {},
   "outputs": [
    {
     "output_type": "execute_result",
     "data": {
      "text/plain": [
       "-73.982387"
      ]
     },
     "metadata": {},
     "execution_count": 202
    }
   ],
   "source": []
  },
  {
   "cell_type": "code",
   "execution_count": 136,
   "metadata": {},
   "outputs": [],
   "source": [
    "q = {}\n",
    "for k in range(0, len(df.longitude)):\n",
    "        q.update(find_nearest(df.longitude[k], df.latitude[k], list(zip(subwaydf.longitude, subwaydf.latitude))))"
   ]
  },
  {
   "cell_type": "code",
   "execution_count": 100,
   "metadata": {},
   "outputs": [],
   "source": [
    "q = {}\n",
    "for i in range(0, len(df.longitude)):\n",
    "    pt = (df.longitude[i], df.latitude[i])\n",
    "    p = {}\n",
    "    for j in range(0, len(subwaydf.longitude)):\n",
    "        p.update({subwaydf.NAME[j] : haversine(pt, (subwaydf.longitude[j], subwaydf.latitude[j]))})\n",
    "        for k in p.keys():\n",
    "            if p[k] == min(p.values()):\n",
    "                q.update({k : min(p.values())})\n",
    "            "
   ]
  },
  {
   "cell_type": "code",
   "execution_count": 108,
   "metadata": {},
   "outputs": [
    {
     "output_type": "execute_result",
     "data": {
      "text/plain": [
       "0.3801521244931524"
      ]
     },
     "metadata": {},
     "execution_count": 108
    }
   ],
   "source": [
    "min(p.values())"
   ]
  },
  {
   "cell_type": "code",
   "execution_count": 110,
   "metadata": {},
   "outputs": [
    {
     "output_type": "execute_result",
     "data": {
      "text/plain": [
       "473"
      ]
     },
     "metadata": {},
     "execution_count": 110
    }
   ],
   "source": [
    "len(subwaydf.longitude)"
   ]
  }
 ]
}